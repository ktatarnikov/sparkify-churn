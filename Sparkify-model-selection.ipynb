{
 "cells": [
  {
   "cell_type": "markdown",
   "metadata": {},
   "source": [
    "# 1 Overview"
   ]
  },
  {
   "cell_type": "markdown",
   "metadata": {},
   "source": [
    "In this notebook I consider the task of improvement of online music service.\n",
    "\n",
    "The issue the company is trying to solve is reducing customer churn or by other words the number of service cancelations.\n",
    "\n",
    "The approach is to determine the target group - the customers that are in a risky category and potentially willing to unsubscribe from the service and then to give them an incentive to stay, e.g. in a form of discounts or special offers.\n",
    "\n",
    "In order to determine the customers under risk I will extract various user activity features from the service access log and try to classify users into two categories: those who is willing to stay subscribed and those that likely unsubscribe soon."
   ]
  },
  {
   "cell_type": "markdown",
   "metadata": {},
   "source": [
    "## 1.1 Problem Statement"
   ]
  },
  {
   "cell_type": "markdown",
   "metadata": {},
   "source": [
    "The full dataset is big to fit single workstation therefore I will split the pipeline into two parts: the goal of the first part is model selection - it will be performed on the small subset of the data and will allow fast iteration during data wrangling and features engineering, the goal of the second part is testing and tuning the final model on the full dataset where I will use the distributed spark cluster.\n",
    "\n",
    "The plan for the small dataset pipeline is to perform the following steps:\n",
    "\n",
    "1. Loading the dataset\n",
    "2. Preprocessing the data: Cleaning the data from NaNs and convert types if necessary\n",
    "3. Extracting possible features and verifying if they can explain churn\n",
    "4. Feature Engineering: checking feature distributions, assembling the classification dataset\n",
    "5. Model selection among three candidates: Decision Tree, Random Forest, GradientBoosting Tree\n",
    "\n",
    "The plan for the big dataset pipeline is the following:\n",
    "1. Transfer the code that does feature engineering from the first pipeline and assemble features on big dataset.\n",
    "2. Perform model tuning using the best model from the first pipeline\n",
    "3. Execute final testing on the big dataset\n",
    "\n",
    "The feature extraction strategy is the following. I will take the user activity log containing the fields below and extract a number of relevant features so they potentially can explain the churn category: \n",
    "\n",
    "- User identifying information\n",
    " - userId\n",
    " - firstName\n",
    " - lastName\n",
    " - location\n",
    " - gender\n",
    " - userAgent\n",
    "- Session/Account information\n",
    " - sessionId\n",
    " - level\n",
    " - auth\n",
    " - itemInSession\n",
    " - length\n",
    "- Activity information\n",
    " - song\n",
    " - artist\n",
    " - page\n",
    " - activity timestamp\n",
    " - registration timestamp\n",
    " - http method\n",
    " - http status\n",
    "\n",
    "The feature candidates that potentially could explain risky category are:\n",
    "\n",
    "- location\n",
    "- gender\n",
    "- user OS\n",
    "- page view statistics\n",
    "- session statistics\n",
    "- length of listened songs\n",
    "- time since registration"
   ]
  },
  {
   "cell_type": "markdown",
   "metadata": {},
   "source": [
    "## 1.2 Evaluation and Metrics"
   ]
  },
  {
   "cell_type": "markdown",
   "metadata": {},
   "source": [
    "For the model selection on a small dataset I split the sample of data into train and validation sets and perform k-fold cross validation on the train set to select the model and then validate the result on the validation set.\n",
    "\n",
    "The selected classifier will be trained on the full dataset with model parameters tuning. The final testing will be done on a test set extracted from full dataset.\n",
    "\n",
    "For the model selection I use f1 score as the evaluation metric. This metric is relevant in this  task because it combines feedback for both false positives and false negatives. In contrast the accuracy may be misleading in case of unbalanced classes where the model can simply favour one of the classes. f1score is important in this task because the churn/no churn classes are not balanced and biased prediction will have impact on the cost of churn prevention campaign therefore it is important to use correct evaluation metric here.\n",
    "\n",
    "I will use precision and recall as complementary evaluation metric when f1score is low in order to find out model bias. The correct non biased prediction of churn customer will have impact on the cost of campaign therefore it is important to use correct evaluation metric."
   ]
  },
  {
   "cell_type": "markdown",
   "metadata": {},
   "source": [
    "## 1.3 Setup"
   ]
  },
  {
   "cell_type": "markdown",
   "metadata": {},
   "source": [
    "The local spark session is created for data wrangling and model selection."
   ]
  },
  {
   "cell_type": "code",
   "execution_count": 1,
   "metadata": {},
   "outputs": [],
   "source": [
    "# import libraries\n",
    "from pyspark.sql import SparkSession\n",
    "from pyspark.ml.feature import ChiSqSelector\n",
    "from pyspark.ml.stat import ChiSquareTest\n",
    "from pyspark.sql.functions import split, array, concat, desc, min, max, udf, sum, count, avg, col, when, isnull, isnan, expr, regexp_extract\n",
    "from pyspark.ml.feature import Bucketizer\n",
    "from pyspark.sql.types import IntegerType, FloatType\n",
    "from pyspark.sql import Window\n",
    "from pyspark.sql import SQLContext\n",
    "from pyspark.ml.feature import OneHotEncoder, StringIndexer, CountVectorizer\n",
    "from pyspark.sql import functions as F\n",
    "import pyspark.sql.types as T\n",
    "from datetime import datetime\n",
    "\n",
    "from pyspark.ml import Pipeline\n",
    "from pyspark.ml.classification import GBTClassifier, DecisionTreeClassifier, RandomForestClassifier\n",
    "from pyspark.ml.feature import StringIndexer, VectorIndexer, VectorAssembler, StandardScaler\n",
    "from pyspark.ml.evaluation import MulticlassClassificationEvaluator\n",
    "from pyspark.ml.tuning import ParamGridBuilder, CrossValidator\n",
    "\n",
    "import seaborn as sns\n",
    "from pandas.plotting import scatter_matrix\n",
    "\n",
    "import pandas as pd\n",
    "import numpy as np\n",
    "\n",
    "import matplotlib.pyplot as plt\n"
   ]
  },
  {
   "cell_type": "code",
   "execution_count": 2,
   "metadata": {},
   "outputs": [],
   "source": [
    "# create a Spark session\n",
    "spark = SparkSession \\\n",
    "        .builder \\\n",
    "        .appName(\"Predict Customer Churn\") \\\n",
    "        .getOrCreate()\n",
    "\n",
    "spark.conf.set('spark.sql.pivotMaxValues', u'50000')"
   ]
  },
  {
   "cell_type": "markdown",
   "metadata": {},
   "source": [
    "## 2 Data Preprocessing"
   ]
  },
  {
   "cell_type": "markdown",
   "metadata": {},
   "source": [
    "I load small sample `mini_sparkify_event_data.json` of the dataset for data wrangling."
   ]
  },
  {
   "cell_type": "code",
   "execution_count": 3,
   "metadata": {},
   "outputs": [],
   "source": [
    "df = spark.read.json('mini_sparkify_event_data.json')\n",
    "df.persist()\n",
    "df.createOrReplaceTempView(\"mini_sparkify_event_data\")"
   ]
  },
  {
   "cell_type": "markdown",
   "metadata": {},
   "source": [
    "The dataset has the following schema:"
   ]
  },
  {
   "cell_type": "code",
   "execution_count": 4,
   "metadata": {},
   "outputs": [
    {
     "name": "stdout",
     "output_type": "stream",
     "text": [
      "root\n",
      " |-- artist: string (nullable = true)\n",
      " |-- auth: string (nullable = true)\n",
      " |-- firstName: string (nullable = true)\n",
      " |-- gender: string (nullable = true)\n",
      " |-- itemInSession: long (nullable = true)\n",
      " |-- lastName: string (nullable = true)\n",
      " |-- length: double (nullable = true)\n",
      " |-- level: string (nullable = true)\n",
      " |-- location: string (nullable = true)\n",
      " |-- method: string (nullable = true)\n",
      " |-- page: string (nullable = true)\n",
      " |-- registration: long (nullable = true)\n",
      " |-- sessionId: long (nullable = true)\n",
      " |-- song: string (nullable = true)\n",
      " |-- status: long (nullable = true)\n",
      " |-- ts: long (nullable = true)\n",
      " |-- userAgent: string (nullable = true)\n",
      " |-- userId: string (nullable = true)\n",
      "\n"
     ]
    }
   ],
   "source": [
    "df.printSchema()"
   ]
  },
  {
   "cell_type": "markdown",
   "metadata": {},
   "source": [
    "Example of the data is given below:"
   ]
  },
  {
   "cell_type": "code",
   "execution_count": 5,
   "metadata": {},
   "outputs": [
    {
     "data": {
      "text/html": [
       "<div>\n",
       "<style scoped>\n",
       "    .dataframe tbody tr th:only-of-type {\n",
       "        vertical-align: middle;\n",
       "    }\n",
       "\n",
       "    .dataframe tbody tr th {\n",
       "        vertical-align: top;\n",
       "    }\n",
       "\n",
       "    .dataframe thead th {\n",
       "        text-align: right;\n",
       "    }\n",
       "</style>\n",
       "<table border=\"1\" class=\"dataframe\">\n",
       "  <thead>\n",
       "    <tr style=\"text-align: right;\">\n",
       "      <th></th>\n",
       "      <th>artist</th>\n",
       "      <th>auth</th>\n",
       "      <th>firstName</th>\n",
       "      <th>gender</th>\n",
       "      <th>itemInSession</th>\n",
       "      <th>lastName</th>\n",
       "      <th>length</th>\n",
       "      <th>level</th>\n",
       "      <th>location</th>\n",
       "      <th>method</th>\n",
       "      <th>page</th>\n",
       "      <th>registration</th>\n",
       "      <th>sessionId</th>\n",
       "      <th>song</th>\n",
       "      <th>status</th>\n",
       "      <th>ts</th>\n",
       "      <th>userAgent</th>\n",
       "      <th>userId</th>\n",
       "    </tr>\n",
       "  </thead>\n",
       "  <tbody>\n",
       "    <tr>\n",
       "      <th>0</th>\n",
       "      <td>Martha Tilston</td>\n",
       "      <td>Logged In</td>\n",
       "      <td>Colin</td>\n",
       "      <td>M</td>\n",
       "      <td>50</td>\n",
       "      <td>Freeman</td>\n",
       "      <td>277.89016</td>\n",
       "      <td>paid</td>\n",
       "      <td>Bakersfield, CA</td>\n",
       "      <td>PUT</td>\n",
       "      <td>NextSong</td>\n",
       "      <td>1538173362000</td>\n",
       "      <td>29</td>\n",
       "      <td>Rockpools</td>\n",
       "      <td>200</td>\n",
       "      <td>1538352117000</td>\n",
       "      <td>Mozilla/5.0 (Windows NT 6.1; WOW64; rv:31.0) G...</td>\n",
       "      <td>30</td>\n",
       "    </tr>\n",
       "    <tr>\n",
       "      <th>1</th>\n",
       "      <td>Five Iron Frenzy</td>\n",
       "      <td>Logged In</td>\n",
       "      <td>Micah</td>\n",
       "      <td>M</td>\n",
       "      <td>79</td>\n",
       "      <td>Long</td>\n",
       "      <td>236.09424</td>\n",
       "      <td>free</td>\n",
       "      <td>Boston-Cambridge-Newton, MA-NH</td>\n",
       "      <td>PUT</td>\n",
       "      <td>NextSong</td>\n",
       "      <td>1538331630000</td>\n",
       "      <td>8</td>\n",
       "      <td>Canada</td>\n",
       "      <td>200</td>\n",
       "      <td>1538352180000</td>\n",
       "      <td>\"Mozilla/5.0 (Windows NT 6.1; WOW64) AppleWebK...</td>\n",
       "      <td>9</td>\n",
       "    </tr>\n",
       "    <tr>\n",
       "      <th>2</th>\n",
       "      <td>Adam Lambert</td>\n",
       "      <td>Logged In</td>\n",
       "      <td>Colin</td>\n",
       "      <td>M</td>\n",
       "      <td>51</td>\n",
       "      <td>Freeman</td>\n",
       "      <td>282.82730</td>\n",
       "      <td>paid</td>\n",
       "      <td>Bakersfield, CA</td>\n",
       "      <td>PUT</td>\n",
       "      <td>NextSong</td>\n",
       "      <td>1538173362000</td>\n",
       "      <td>29</td>\n",
       "      <td>Time For Miracles</td>\n",
       "      <td>200</td>\n",
       "      <td>1538352394000</td>\n",
       "      <td>Mozilla/5.0 (Windows NT 6.1; WOW64; rv:31.0) G...</td>\n",
       "      <td>30</td>\n",
       "    </tr>\n",
       "    <tr>\n",
       "      <th>3</th>\n",
       "      <td>Enigma</td>\n",
       "      <td>Logged In</td>\n",
       "      <td>Micah</td>\n",
       "      <td>M</td>\n",
       "      <td>80</td>\n",
       "      <td>Long</td>\n",
       "      <td>262.71302</td>\n",
       "      <td>free</td>\n",
       "      <td>Boston-Cambridge-Newton, MA-NH</td>\n",
       "      <td>PUT</td>\n",
       "      <td>NextSong</td>\n",
       "      <td>1538331630000</td>\n",
       "      <td>8</td>\n",
       "      <td>Knocking On Forbidden Doors</td>\n",
       "      <td>200</td>\n",
       "      <td>1538352416000</td>\n",
       "      <td>\"Mozilla/5.0 (Windows NT 6.1; WOW64) AppleWebK...</td>\n",
       "      <td>9</td>\n",
       "    </tr>\n",
       "    <tr>\n",
       "      <th>4</th>\n",
       "      <td>Daft Punk</td>\n",
       "      <td>Logged In</td>\n",
       "      <td>Colin</td>\n",
       "      <td>M</td>\n",
       "      <td>52</td>\n",
       "      <td>Freeman</td>\n",
       "      <td>223.60771</td>\n",
       "      <td>paid</td>\n",
       "      <td>Bakersfield, CA</td>\n",
       "      <td>PUT</td>\n",
       "      <td>NextSong</td>\n",
       "      <td>1538173362000</td>\n",
       "      <td>29</td>\n",
       "      <td>Harder Better Faster Stronger</td>\n",
       "      <td>200</td>\n",
       "      <td>1538352676000</td>\n",
       "      <td>Mozilla/5.0 (Windows NT 6.1; WOW64; rv:31.0) G...</td>\n",
       "      <td>30</td>\n",
       "    </tr>\n",
       "    <tr>\n",
       "      <th>5</th>\n",
       "      <td>The All-American Rejects</td>\n",
       "      <td>Logged In</td>\n",
       "      <td>Micah</td>\n",
       "      <td>M</td>\n",
       "      <td>81</td>\n",
       "      <td>Long</td>\n",
       "      <td>208.29995</td>\n",
       "      <td>free</td>\n",
       "      <td>Boston-Cambridge-Newton, MA-NH</td>\n",
       "      <td>PUT</td>\n",
       "      <td>NextSong</td>\n",
       "      <td>1538331630000</td>\n",
       "      <td>8</td>\n",
       "      <td>Don't Leave Me</td>\n",
       "      <td>200</td>\n",
       "      <td>1538352678000</td>\n",
       "      <td>\"Mozilla/5.0 (Windows NT 6.1; WOW64) AppleWebK...</td>\n",
       "      <td>9</td>\n",
       "    </tr>\n",
       "    <tr>\n",
       "      <th>6</th>\n",
       "      <td>The Velvet Underground / Nico</td>\n",
       "      <td>Logged In</td>\n",
       "      <td>Micah</td>\n",
       "      <td>M</td>\n",
       "      <td>82</td>\n",
       "      <td>Long</td>\n",
       "      <td>260.46649</td>\n",
       "      <td>free</td>\n",
       "      <td>Boston-Cambridge-Newton, MA-NH</td>\n",
       "      <td>PUT</td>\n",
       "      <td>NextSong</td>\n",
       "      <td>1538331630000</td>\n",
       "      <td>8</td>\n",
       "      <td>Run Run Run</td>\n",
       "      <td>200</td>\n",
       "      <td>1538352886000</td>\n",
       "      <td>\"Mozilla/5.0 (Windows NT 6.1; WOW64) AppleWebK...</td>\n",
       "      <td>9</td>\n",
       "    </tr>\n",
       "    <tr>\n",
       "      <th>7</th>\n",
       "      <td>Starflyer 59</td>\n",
       "      <td>Logged In</td>\n",
       "      <td>Colin</td>\n",
       "      <td>M</td>\n",
       "      <td>53</td>\n",
       "      <td>Freeman</td>\n",
       "      <td>185.44281</td>\n",
       "      <td>paid</td>\n",
       "      <td>Bakersfield, CA</td>\n",
       "      <td>PUT</td>\n",
       "      <td>NextSong</td>\n",
       "      <td>1538173362000</td>\n",
       "      <td>29</td>\n",
       "      <td>Passengers (Old Album Version)</td>\n",
       "      <td>200</td>\n",
       "      <td>1538352899000</td>\n",
       "      <td>Mozilla/5.0 (Windows NT 6.1; WOW64; rv:31.0) G...</td>\n",
       "      <td>30</td>\n",
       "    </tr>\n",
       "    <tr>\n",
       "      <th>8</th>\n",
       "      <td>None</td>\n",
       "      <td>Logged In</td>\n",
       "      <td>Colin</td>\n",
       "      <td>M</td>\n",
       "      <td>54</td>\n",
       "      <td>Freeman</td>\n",
       "      <td>NaN</td>\n",
       "      <td>paid</td>\n",
       "      <td>Bakersfield, CA</td>\n",
       "      <td>PUT</td>\n",
       "      <td>Add to Playlist</td>\n",
       "      <td>1538173362000</td>\n",
       "      <td>29</td>\n",
       "      <td>None</td>\n",
       "      <td>200</td>\n",
       "      <td>1538352905000</td>\n",
       "      <td>Mozilla/5.0 (Windows NT 6.1; WOW64; rv:31.0) G...</td>\n",
       "      <td>30</td>\n",
       "    </tr>\n",
       "    <tr>\n",
       "      <th>9</th>\n",
       "      <td>Frumpies</td>\n",
       "      <td>Logged In</td>\n",
       "      <td>Colin</td>\n",
       "      <td>M</td>\n",
       "      <td>55</td>\n",
       "      <td>Freeman</td>\n",
       "      <td>134.47791</td>\n",
       "      <td>paid</td>\n",
       "      <td>Bakersfield, CA</td>\n",
       "      <td>PUT</td>\n",
       "      <td>NextSong</td>\n",
       "      <td>1538173362000</td>\n",
       "      <td>29</td>\n",
       "      <td>Fuck Kitty</td>\n",
       "      <td>200</td>\n",
       "      <td>1538353084000</td>\n",
       "      <td>Mozilla/5.0 (Windows NT 6.1; WOW64; rv:31.0) G...</td>\n",
       "      <td>30</td>\n",
       "    </tr>\n",
       "  </tbody>\n",
       "</table>\n",
       "</div>"
      ],
      "text/plain": [
       "                          artist       auth firstName gender  itemInSession  \\\n",
       "0                 Martha Tilston  Logged In     Colin      M             50   \n",
       "1               Five Iron Frenzy  Logged In     Micah      M             79   \n",
       "2                   Adam Lambert  Logged In     Colin      M             51   \n",
       "3                         Enigma  Logged In     Micah      M             80   \n",
       "4                      Daft Punk  Logged In     Colin      M             52   \n",
       "5       The All-American Rejects  Logged In     Micah      M             81   \n",
       "6  The Velvet Underground / Nico  Logged In     Micah      M             82   \n",
       "7                   Starflyer 59  Logged In     Colin      M             53   \n",
       "8                           None  Logged In     Colin      M             54   \n",
       "9                       Frumpies  Logged In     Colin      M             55   \n",
       "\n",
       "  lastName     length level                        location method  \\\n",
       "0  Freeman  277.89016  paid                 Bakersfield, CA    PUT   \n",
       "1     Long  236.09424  free  Boston-Cambridge-Newton, MA-NH    PUT   \n",
       "2  Freeman  282.82730  paid                 Bakersfield, CA    PUT   \n",
       "3     Long  262.71302  free  Boston-Cambridge-Newton, MA-NH    PUT   \n",
       "4  Freeman  223.60771  paid                 Bakersfield, CA    PUT   \n",
       "5     Long  208.29995  free  Boston-Cambridge-Newton, MA-NH    PUT   \n",
       "6     Long  260.46649  free  Boston-Cambridge-Newton, MA-NH    PUT   \n",
       "7  Freeman  185.44281  paid                 Bakersfield, CA    PUT   \n",
       "8  Freeman        NaN  paid                 Bakersfield, CA    PUT   \n",
       "9  Freeman  134.47791  paid                 Bakersfield, CA    PUT   \n",
       "\n",
       "              page   registration  sessionId                            song  \\\n",
       "0         NextSong  1538173362000         29                       Rockpools   \n",
       "1         NextSong  1538331630000          8                          Canada   \n",
       "2         NextSong  1538173362000         29               Time For Miracles   \n",
       "3         NextSong  1538331630000          8     Knocking On Forbidden Doors   \n",
       "4         NextSong  1538173362000         29   Harder Better Faster Stronger   \n",
       "5         NextSong  1538331630000          8                  Don't Leave Me   \n",
       "6         NextSong  1538331630000          8                     Run Run Run   \n",
       "7         NextSong  1538173362000         29  Passengers (Old Album Version)   \n",
       "8  Add to Playlist  1538173362000         29                            None   \n",
       "9         NextSong  1538173362000         29                      Fuck Kitty   \n",
       "\n",
       "   status             ts                                          userAgent  \\\n",
       "0     200  1538352117000  Mozilla/5.0 (Windows NT 6.1; WOW64; rv:31.0) G...   \n",
       "1     200  1538352180000  \"Mozilla/5.0 (Windows NT 6.1; WOW64) AppleWebK...   \n",
       "2     200  1538352394000  Mozilla/5.0 (Windows NT 6.1; WOW64; rv:31.0) G...   \n",
       "3     200  1538352416000  \"Mozilla/5.0 (Windows NT 6.1; WOW64) AppleWebK...   \n",
       "4     200  1538352676000  Mozilla/5.0 (Windows NT 6.1; WOW64; rv:31.0) G...   \n",
       "5     200  1538352678000  \"Mozilla/5.0 (Windows NT 6.1; WOW64) AppleWebK...   \n",
       "6     200  1538352886000  \"Mozilla/5.0 (Windows NT 6.1; WOW64) AppleWebK...   \n",
       "7     200  1538352899000  Mozilla/5.0 (Windows NT 6.1; WOW64; rv:31.0) G...   \n",
       "8     200  1538352905000  Mozilla/5.0 (Windows NT 6.1; WOW64; rv:31.0) G...   \n",
       "9     200  1538353084000  Mozilla/5.0 (Windows NT 6.1; WOW64; rv:31.0) G...   \n",
       "\n",
       "  userId  \n",
       "0     30  \n",
       "1      9  \n",
       "2     30  \n",
       "3      9  \n",
       "4     30  \n",
       "5      9  \n",
       "6      9  \n",
       "7     30  \n",
       "8     30  \n",
       "9     30  "
      ]
     },
     "execution_count": 5,
     "metadata": {},
     "output_type": "execute_result"
    }
   ],
   "source": [
    "spark.sql(\"SELECT * FROM mini_sparkify_event_data LIMIT 10\").toPandas()"
   ]
  },
  {
   "cell_type": "markdown",
   "metadata": {},
   "source": [
    "## 2.1 Handling Missing Values \n",
    "\n",
    "Checking how many missing values are in the dataset"
   ]
  },
  {
   "cell_type": "code",
   "execution_count": 6,
   "metadata": {},
   "outputs": [
    {
     "data": {
      "text/html": [
       "<div>\n",
       "<style scoped>\n",
       "    .dataframe tbody tr th:only-of-type {\n",
       "        vertical-align: middle;\n",
       "    }\n",
       "\n",
       "    .dataframe tbody tr th {\n",
       "        vertical-align: top;\n",
       "    }\n",
       "\n",
       "    .dataframe thead th {\n",
       "        text-align: right;\n",
       "    }\n",
       "</style>\n",
       "<table border=\"1\" class=\"dataframe\">\n",
       "  <thead>\n",
       "    <tr style=\"text-align: right;\">\n",
       "      <th></th>\n",
       "      <th>artist</th>\n",
       "      <th>auth</th>\n",
       "      <th>firstName</th>\n",
       "      <th>gender</th>\n",
       "      <th>itemInSession</th>\n",
       "      <th>lastName</th>\n",
       "      <th>length</th>\n",
       "      <th>level</th>\n",
       "      <th>location</th>\n",
       "      <th>method</th>\n",
       "      <th>page</th>\n",
       "      <th>registration</th>\n",
       "      <th>sessionId</th>\n",
       "      <th>song</th>\n",
       "      <th>status</th>\n",
       "      <th>ts</th>\n",
       "      <th>userAgent</th>\n",
       "      <th>userId</th>\n",
       "    </tr>\n",
       "  </thead>\n",
       "  <tbody>\n",
       "    <tr>\n",
       "      <th>0</th>\n",
       "      <td>58392</td>\n",
       "      <td>0</td>\n",
       "      <td>8346</td>\n",
       "      <td>8346</td>\n",
       "      <td>0</td>\n",
       "      <td>8346</td>\n",
       "      <td>58392</td>\n",
       "      <td>0</td>\n",
       "      <td>8346</td>\n",
       "      <td>0</td>\n",
       "      <td>0</td>\n",
       "      <td>8346</td>\n",
       "      <td>0</td>\n",
       "      <td>58392</td>\n",
       "      <td>0</td>\n",
       "      <td>0</td>\n",
       "      <td>8346</td>\n",
       "      <td>0</td>\n",
       "    </tr>\n",
       "  </tbody>\n",
       "</table>\n",
       "</div>"
      ],
      "text/plain": [
       "   artist  auth  firstName  gender  itemInSession  lastName  length  level  \\\n",
       "0   58392     0       8346    8346              0      8346   58392      0   \n",
       "\n",
       "   location  method  page  registration  sessionId   song  status  ts  \\\n",
       "0      8346       0     0          8346          0  58392       0   0   \n",
       "\n",
       "   userAgent  userId  \n",
       "0       8346       0  "
      ]
     },
     "execution_count": 6,
     "metadata": {},
     "output_type": "execute_result"
    }
   ],
   "source": [
    "df.select([count(when(isnan(c) | col(c).isNull(), c)).alias(c) for c in df.columns]).toPandas()"
   ]
  },
  {
   "cell_type": "markdown",
   "metadata": {},
   "source": [
    "Dropping the rows without sessionId, userId, page, timestamp and registration since they are useless\n"
   ]
  },
  {
   "cell_type": "code",
   "execution_count": 7,
   "metadata": {},
   "outputs": [
    {
     "name": "stdout",
     "output_type": "stream",
     "text": [
      "all rows:  286500\n",
      "after cleaning:  278154\n"
     ]
    }
   ],
   "source": [
    "print(\"all rows: \", df.count())\n",
    "df = df.dropna(subset=[\"userId\", \"sessionId\", \"page\", \"ts\", \"registration\"])\n",
    "df = df.filter(df[\"userId\"]!=\"\")\n",
    "df = df.filter(df[\"page\"]!=\"\")\n",
    "df = df.persist()\n",
    "print(\"after cleaning: \", df.count())"
   ]
  },
  {
   "cell_type": "markdown",
   "metadata": {},
   "source": [
    "## 2.2 Convert datetime"
   ]
  },
  {
   "cell_type": "markdown",
   "metadata": {},
   "source": [
    "I convert timestamp and registration columns to several formats that will be useful for the per < time interval > features, such as page views."
   ]
  },
  {
   "cell_type": "code",
   "execution_count": 8,
   "metadata": {},
   "outputs": [],
   "source": [
    "hour_millis = 60*60*1000\n",
    "day_millis = 24*60*60*1000\n",
    "week_millis = 7*24*60*60*1000\n",
    "\n",
    "to_spark_time = udf(lambda x : datetime.utcfromtimestamp(x/1000).strftime('%Y-%m-%d %H:%M:%S'))\n",
    "to_day = udf(lambda x : int(x/day_millis))\n",
    "to_week = udf(lambda x : int(x/week_millis))\n",
    "\n",
    "df = df.withColumn('timestamp', to_spark_time('ts'))\n",
    "df = df.withColumn('day', to_day('ts'))\n",
    "df = df.withColumn('week', to_week('ts'))\n",
    "df = df.withColumn('registration_day', to_day('registration'))\n",
    "df = df.persist()"
   ]
  },
  {
   "cell_type": "markdown",
   "metadata": {},
   "source": [
    "# 3 Exploratory Data Analysis\n",
    "\n",
    "I plan to extract the number of features and perform independence test and correlation tests to investigate if a feature can explain the churn. The features with high correlation are candidates for final dataset.\n",
    "\n",
    "## 3.1 Define Churn\n",
    "\n",
    "The user is labeled as \"churn\" if he visits `Cancelation Confirmation` page which indicates that he confirmed subscription termination."
   ]
  },
  {
   "cell_type": "markdown",
   "metadata": {},
   "source": [
    "**Total number of users in the dataset**"
   ]
  },
  {
   "cell_type": "code",
   "execution_count": 9,
   "metadata": {},
   "outputs": [
    {
     "data": {
      "text/plain": [
       "225"
      ]
     },
     "execution_count": 9,
     "metadata": {},
     "output_type": "execute_result"
    }
   ],
   "source": [
    "df.select(\"userId\").distinct().count()"
   ]
  },
  {
   "cell_type": "markdown",
   "metadata": {},
   "source": [
    "Define **churn** feature and set to to all records of the same user"
   ]
  },
  {
   "cell_type": "code",
   "execution_count": 10,
   "metadata": {},
   "outputs": [],
   "source": [
    "user_window = Window.partitionBy(\"userId\").rangeBetween(Window.unboundedPreceding, Window.unboundedFollowing)\n",
    "churn_func = udf(lambda v :1 if v =='Cancellation Confirmation' else 0, IntegerType())\n",
    "df = df.withColumn(\"churn\", churn_func(\"page\")) \\\n",
    "       .withColumn(\"churn\", sum(\"churn\").over(user_window))\n",
    "user_churn = df.select(\"userId\", \"churn\").distinct().persist()"
   ]
  },
  {
   "cell_type": "code",
   "execution_count": 11,
   "metadata": {},
   "outputs": [
    {
     "data": {
      "text/plain": [
       "array([[<matplotlib.axes._subplots.AxesSubplot object at 0x7f34fb7862e8>]], dtype=object)"
      ]
     },
     "execution_count": 11,
     "metadata": {},
     "output_type": "execute_result"
    },
    {
     "data": {
      "image/png": "[encoded data removed]",
      "text/plain": [
       "<matplotlib.figure.Figure at 0x7f34fb71c3c8>"
      ]
     },
     "metadata": {
      "needs_background": "light"
     },
     "output_type": "display_data"
    }
   ],
   "source": [
    "user_churn.toPandas().hist()"
   ]
  },
  {
   "cell_type": "markdown",
   "metadata": {},
   "source": [
    "## 3.2 Explore Data\n",
    "\n",
    "The \"churn\" target column is defined. Let's see relation between different columns/features and target column."
   ]
  },
  {
   "cell_type": "code",
   "execution_count": 12,
   "metadata": {},
   "outputs": [],
   "source": [
    "def independence_test(user_x, column_name):    \n",
    "    churn_x = user_x.join(user_churn, \"userId\", \"outer\").persist()\n",
    "    pivoted_x = churn_x.groupby(\"userId\", \"churn\").pivot(column_name).count().fillna(0)\n",
    "    ignore = [\"userId\", \"churn\"]\n",
    "    assembler = VectorAssembler(\n",
    "        inputCols=[x for x in pivoted_x.columns if x not in ignore],\n",
    "        outputCol=f'{column_name}_features')\n",
    "    pivoted_x_features = assembler.transform(pivoted_x)\n",
    "\n",
    "    r = ChiSquareTest.test(pivoted_x_features, f'{column_name}_features', \"churn\").head()\n",
    "    not_independent = np.sum([1 for v in r.pValues if v > 0.05])\n",
    "    print(f\"there are {not_independent} pValues greater than 0.05 out of {len(r.pValues)}\")\n",
    "\n",
    "def independence_test_pivoted(user_x, target_name, ignore = [\"userId\", \"churn\"]):    \n",
    "    assembler = VectorAssembler(\n",
    "        inputCols=[x for x in user_x.columns if x not in ignore],\n",
    "        outputCol=f'{target_name}_features')\n",
    "    pivoted_x_features = assembler.transform(user_x)\n",
    "\n",
    "    r = ChiSquareTest.test(pivoted_x_features, f'{column_name}_features', \"churn\").head()\n",
    "    not_independent = np.sum([1 for v in r.pValues if v > 0.05])\n",
    "    print(f\"there are {not_independent} pValues greater than 0.05 out of {len(r.pValues)}\")\n",
    "\n",
    "def spearman_heatmap(frame):\n",
    "    corr = frame.corr(method=\"spearman\")\n",
    "    corr = corr.loc[[\"churn\"],:]\n",
    "    cmap = sns.diverging_palette(220, 10, as_cmap=True)\n",
    "    sns.heatmap(corr, cmap=cmap, vmax=.3, center=0, linewidths=.5, cbar_kws={\"shrink\": .5})"
   ]
  },
  {
   "cell_type": "markdown",
   "metadata": {},
   "source": [
    "### 3.2.1 Making features that could explain churn"
   ]
  },
  {
   "cell_type": "markdown",
   "metadata": {},
   "source": [
    "I am going to explore the following features and verify that they have relation to response variable:\n",
    "- location city\n",
    "- location state\n",
    "- user OS\n",
    "- page view counts\n",
    "- gender\n",
    "- average user session with service per week\n",
    "- items in session statistics\n",
    "- length of listened songs"
   ]
  },
  {
   "cell_type": "markdown",
   "metadata": {},
   "source": [
    "### 3.2.2 Location City and State"
   ]
  },
  {
   "cell_type": "code",
   "execution_count": 13,
   "metadata": {},
   "outputs": [],
   "source": [
    "\n",
    "user_location = df.select(\"userId\", \"location\").distinct()\n",
    "split_col = split(user_location['location'], ',')\n",
    "user_city = user_location.withColumn('location_city', split_col.getItem(0)).select(\"userId\", \"location_city\").distinct()\n",
    "user_city = user_city.withColumn(\"location_city\", F.regexp_replace('location_city', '[\\.\\s]', '-')).persist()\n",
    "user_state = user_location.withColumn('location_state', split_col.getItem(1)).select(\"userId\", \"location_state\").distinct().persist()"
   ]
  },
  {
   "cell_type": "code",
   "execution_count": 14,
   "metadata": {},
   "outputs": [
    {
     "data": {
      "text/html": [
       "<div>\n",
       "<style scoped>\n",
       "    .dataframe tbody tr th:only-of-type {\n",
       "        vertical-align: middle;\n",
       "    }\n",
       "\n",
       "    .dataframe tbody tr th {\n",
       "        vertical-align: top;\n",
       "    }\n",
       "\n",
       "    .dataframe thead th {\n",
       "        text-align: right;\n",
       "    }\n",
       "</style>\n",
       "<table border=\"1\" class=\"dataframe\">\n",
       "  <thead>\n",
       "    <tr style=\"text-align: right;\">\n",
       "      <th></th>\n",
       "      <th>userId</th>\n",
       "      <th>location_city</th>\n",
       "    </tr>\n",
       "  </thead>\n",
       "  <tbody>\n",
       "    <tr>\n",
       "      <th>0</th>\n",
       "      <td>19</td>\n",
       "      <td>Dayton</td>\n",
       "    </tr>\n",
       "    <tr>\n",
       "      <th>1</th>\n",
       "      <td>65</td>\n",
       "      <td>Concord</td>\n",
       "    </tr>\n",
       "    <tr>\n",
       "      <th>2</th>\n",
       "      <td>300011</td>\n",
       "      <td>New-York-Newark-Jersey-City</td>\n",
       "    </tr>\n",
       "    <tr>\n",
       "      <th>3</th>\n",
       "      <td>133</td>\n",
       "      <td>San-Diego-Carlsbad</td>\n",
       "    </tr>\n",
       "    <tr>\n",
       "      <th>4</th>\n",
       "      <td>2</td>\n",
       "      <td>Raleigh</td>\n",
       "    </tr>\n",
       "  </tbody>\n",
       "</table>\n",
       "</div>"
      ],
      "text/plain": [
       "   userId                location_city\n",
       "0      19                       Dayton\n",
       "1      65                      Concord\n",
       "2  300011  New-York-Newark-Jersey-City\n",
       "3     133           San-Diego-Carlsbad\n",
       "4       2                      Raleigh"
      ]
     },
     "execution_count": 14,
     "metadata": {},
     "output_type": "execute_result"
    }
   ],
   "source": [
    "user_city.toPandas().head()"
   ]
  },
  {
   "cell_type": "code",
   "execution_count": 15,
   "metadata": {},
   "outputs": [
    {
     "data": {
      "text/html": [
       "<div>\n",
       "<style scoped>\n",
       "    .dataframe tbody tr th:only-of-type {\n",
       "        vertical-align: middle;\n",
       "    }\n",
       "\n",
       "    .dataframe tbody tr th {\n",
       "        vertical-align: top;\n",
       "    }\n",
       "\n",
       "    .dataframe thead th {\n",
       "        text-align: right;\n",
       "    }\n",
       "</style>\n",
       "<table border=\"1\" class=\"dataframe\">\n",
       "  <thead>\n",
       "    <tr style=\"text-align: right;\">\n",
       "      <th></th>\n",
       "      <th>userId</th>\n",
       "      <th>location_state</th>\n",
       "    </tr>\n",
       "  </thead>\n",
       "  <tbody>\n",
       "    <tr>\n",
       "      <th>0</th>\n",
       "      <td>43</td>\n",
       "      <td>MA-NH</td>\n",
       "    </tr>\n",
       "    <tr>\n",
       "      <th>1</th>\n",
       "      <td>111</td>\n",
       "      <td>MI</td>\n",
       "    </tr>\n",
       "    <tr>\n",
       "      <th>2</th>\n",
       "      <td>200007</td>\n",
       "      <td>NY-NJ-PA</td>\n",
       "    </tr>\n",
       "    <tr>\n",
       "      <th>3</th>\n",
       "      <td>300001</td>\n",
       "      <td>CO</td>\n",
       "    </tr>\n",
       "    <tr>\n",
       "      <th>4</th>\n",
       "      <td>100007</td>\n",
       "      <td>AR</td>\n",
       "    </tr>\n",
       "  </tbody>\n",
       "</table>\n",
       "</div>"
      ],
      "text/plain": [
       "   userId location_state\n",
       "0      43          MA-NH\n",
       "1     111             MI\n",
       "2  200007       NY-NJ-PA\n",
       "3  300001             CO\n",
       "4  100007             AR"
      ]
     },
     "execution_count": 15,
     "metadata": {},
     "output_type": "execute_result"
    }
   ],
   "source": [
    "user_state.toPandas().head()"
   ]
  },
  {
   "cell_type": "code",
   "execution_count": 16,
   "metadata": {},
   "outputs": [],
   "source": [
    "churn_states = user_state.join(user_churn, \"userId\", \"outer\").persist()\n",
    "churn_cities = user_city.join(user_churn, \"userId\", \"outer\").persist()"
   ]
  },
  {
   "cell_type": "code",
   "execution_count": 17,
   "metadata": {},
   "outputs": [
    {
     "name": "stdout",
     "output_type": "stream",
     "text": [
      "there are 57 pValues greater than 0.05 out of 58\n"
     ]
    }
   ],
   "source": [
    "independence_test(user_state, \"location_state\")"
   ]
  },
  {
   "cell_type": "markdown",
   "metadata": {},
   "source": [
    "Lots of states may explain churn since they have pvalues greater than 0.05 meaning that null hypothesis that they are independent is rejected"
   ]
  },
  {
   "cell_type": "code",
   "execution_count": 18,
   "metadata": {},
   "outputs": [
    {
     "name": "stdout",
     "output_type": "stream",
     "text": [
      "there are 110 pValues greater than 0.05 out of 113\n"
     ]
    }
   ],
   "source": [
    "independence_test(user_city, \"location_city\")"
   ]
  },
  {
   "cell_type": "markdown",
   "metadata": {},
   "source": [
    "The same situation is with cities. I will leave them as features"
   ]
  },
  {
   "cell_type": "code",
   "execution_count": 19,
   "metadata": {},
   "outputs": [
    {
     "data": {
      "text/plain": [
       "<matplotlib.axes._subplots.AxesSubplot at 0x7f34f961cb38>"
      ]
     },
     "execution_count": 19,
     "metadata": {},
     "output_type": "execute_result"
    },
    {
     "data": {
      "image/png": "[encoded data removed]",
      "text/plain": [
       "<matplotlib.figure.Figure at 0x7f34f961cef0>"
      ]
     },
     "metadata": {
      "needs_background": "light"
     },
     "output_type": "display_data"
    }
   ],
   "source": [
    "plt.figure(figsize=(18, 6))\n",
    "plt.xticks(rotation=45, ha='right')\n",
    "sns.countplot(x=\"location_state\", hue=\"churn\", data=churn_states.select(\"churn\", \"location_state\").toPandas()) "
   ]
  },
  {
   "cell_type": "code",
   "execution_count": 20,
   "metadata": {},
   "outputs": [
    {
     "data": {
      "text/plain": [
       "<matplotlib.axes._subplots.AxesSubplot at 0x7f34f9564f98>"
      ]
     },
     "execution_count": 20,
     "metadata": {},
     "output_type": "execute_result"
    },
    {
     "data": {
      "image/png": "[encoded data removed]",
      "text/plain": [
       "<matplotlib.figure.Figure at 0x7f34f9564898>"
      ]
     },
     "metadata": {
      "needs_background": "light"
     },
     "output_type": "display_data"
    }
   ],
   "source": [
    "plt.figure(figsize=(20, 6))\n",
    "plt.xticks(rotation=45, ha='right')\n",
    "sns.countplot(x=\"location_city\", hue=\"churn\", data=churn_cities.select(\"churn\", \"location_city\").toPandas()) "
   ]
  },
  {
   "cell_type": "markdown",
   "metadata": {},
   "source": [
    "### 3.2.3 User Operation System"
   ]
  },
  {
   "cell_type": "code",
   "execution_count": 21,
   "metadata": {},
   "outputs": [],
   "source": [
    "user_agent = df.select(\"userId\", \"userAgent\").distinct()\n",
    "# Mozilla/5.0 (Windows NT 6.3; WOW64; rv:31.0)\n",
    "user_os = user_agent.withColumn(\"user_os\", regexp_extract(col('userAgent'), r'Mozilla/5.0 \\(([\\w\\s\\.\\/]*);', 1))\n",
    "user_os = user_os.select(\"userId\", \"user_os\")\n",
    "user_os = user_os.withColumn(\"user_os\", F.regexp_replace('user_os', '[\\.\\s]', '-'))\n",
    "user_os = user_os.withColumn('user_os', when(col('user_os') != '', col('user_os')).otherwise(\"Unknown\")).persist()"
   ]
  },
  {
   "cell_type": "code",
   "execution_count": 22,
   "metadata": {},
   "outputs": [
    {
     "name": "stdout",
     "output_type": "stream",
     "text": [
      "there are 10 pValues greater than 0.05 out of 10\n"
     ]
    }
   ],
   "source": [
    "independence_test(user_os, \"user_os\")"
   ]
  },
  {
   "cell_type": "code",
   "execution_count": 23,
   "metadata": {},
   "outputs": [
    {
     "data": {
      "text/plain": [
       "<matplotlib.axes._subplots.AxesSubplot at 0x7f34f92acc18>"
      ]
     },
     "execution_count": 23,
     "metadata": {},
     "output_type": "execute_result"
    },
    {
     "data": {
      "image/png": "[encoded data removed]",
      "text/plain": [
       "<matplotlib.figure.Figure at 0x7f34f8fb36a0>"
      ]
     },
     "metadata": {
      "needs_background": "light"
     },
     "output_type": "display_data"
    }
   ],
   "source": [
    "plt.figure(figsize=(18, 6))\n",
    "churn_user_os = user_os.join(user_churn, \"userId\", \"outer\").persist()\n",
    "sns.countplot(x=\"user_os\", hue=\"churn\", data=churn_user_os.select(\"churn\", \"user_os\").toPandas()) "
   ]
  },
  {
   "cell_type": "markdown",
   "metadata": {},
   "source": [
    "From the plot above follows that user_os has some correlation with churn. I include this feature in the final dataset."
   ]
  },
  {
   "cell_type": "markdown",
   "metadata": {},
   "source": [
    "### 3.2.6 Page views (min, max, avg)"
   ]
  },
  {
   "cell_type": "code",
   "execution_count": 24,
   "metadata": {},
   "outputs": [],
   "source": [
    "pages_to_drop = ['Cancel', 'Cancellation Confirmation', 'Downgrade', 'Submit Downgrade', 'Submit Upgrade', 'Upgrade']\n",
    "\n",
    "page_view_pivot = \\\n",
    "    df.select(\"userId\", \"page\", \"day\") \\\n",
    "      .groupby(\"userId\", \"day\") \\\n",
    "      .pivot(\"page\")\n",
    "page_view_counts = page_view_pivot.count().drop(*pages_to_drop).fillna(0)\n",
    "page_view_count_avg_per_day = page_view_counts.groupby(\"userId\").avg()\n",
    "page_view_count_min_per_day = page_view_counts.groupby(\"userId\").min()\n",
    "page_view_count_max_per_day = page_view_counts.groupby(\"userId\").max()"
   ]
  },
  {
   "cell_type": "code",
   "execution_count": 25,
   "metadata": {},
   "outputs": [
    {
     "data": {
      "text/html": [
       "<div>\n",
       "<style scoped>\n",
       "    .dataframe tbody tr th:only-of-type {\n",
       "        vertical-align: middle;\n",
       "    }\n",
       "\n",
       "    .dataframe tbody tr th {\n",
       "        vertical-align: top;\n",
       "    }\n",
       "\n",
       "    .dataframe thead th {\n",
       "        text-align: right;\n",
       "    }\n",
       "</style>\n",
       "<table border=\"1\" class=\"dataframe\">\n",
       "  <thead>\n",
       "    <tr style=\"text-align: right;\">\n",
       "      <th></th>\n",
       "      <th>userId</th>\n",
       "      <th>avg(About)</th>\n",
       "      <th>avg(Add Friend)</th>\n",
       "      <th>avg(Add to Playlist)</th>\n",
       "      <th>avg(Error)</th>\n",
       "      <th>avg(Help)</th>\n",
       "      <th>avg(Home)</th>\n",
       "      <th>avg(Logout)</th>\n",
       "      <th>avg(NextSong)</th>\n",
       "      <th>avg(Roll Advert)</th>\n",
       "      <th>avg(Save Settings)</th>\n",
       "      <th>avg(Settings)</th>\n",
       "      <th>avg(Thumbs Down)</th>\n",
       "      <th>avg(Thumbs Up)</th>\n",
       "    </tr>\n",
       "  </thead>\n",
       "  <tbody>\n",
       "    <tr>\n",
       "      <th>0</th>\n",
       "      <td>100010</td>\n",
       "      <td>0.142857</td>\n",
       "      <td>0.571429</td>\n",
       "      <td>1.000000</td>\n",
       "      <td>0.000000</td>\n",
       "      <td>0.285714</td>\n",
       "      <td>1.571429</td>\n",
       "      <td>0.714286</td>\n",
       "      <td>39.285714</td>\n",
       "      <td>7.428571</td>\n",
       "      <td>0.000000</td>\n",
       "      <td>0.000000</td>\n",
       "      <td>0.714286</td>\n",
       "      <td>2.428571</td>\n",
       "    </tr>\n",
       "    <tr>\n",
       "      <th>1</th>\n",
       "      <td>200002</td>\n",
       "      <td>0.428571</td>\n",
       "      <td>0.571429</td>\n",
       "      <td>1.142857</td>\n",
       "      <td>0.000000</td>\n",
       "      <td>0.285714</td>\n",
       "      <td>2.857143</td>\n",
       "      <td>0.714286</td>\n",
       "      <td>55.285714</td>\n",
       "      <td>1.000000</td>\n",
       "      <td>0.000000</td>\n",
       "      <td>0.428571</td>\n",
       "      <td>0.857143</td>\n",
       "      <td>3.000000</td>\n",
       "    </tr>\n",
       "    <tr>\n",
       "      <th>2</th>\n",
       "      <td>125</td>\n",
       "      <td>0.000000</td>\n",
       "      <td>0.000000</td>\n",
       "      <td>0.000000</td>\n",
       "      <td>0.000000</td>\n",
       "      <td>0.000000</td>\n",
       "      <td>0.000000</td>\n",
       "      <td>0.000000</td>\n",
       "      <td>8.000000</td>\n",
       "      <td>1.000000</td>\n",
       "      <td>0.000000</td>\n",
       "      <td>0.000000</td>\n",
       "      <td>0.000000</td>\n",
       "      <td>0.000000</td>\n",
       "    </tr>\n",
       "    <tr>\n",
       "      <th>3</th>\n",
       "      <td>124</td>\n",
       "      <td>0.212121</td>\n",
       "      <td>2.242424</td>\n",
       "      <td>3.575758</td>\n",
       "      <td>0.181818</td>\n",
       "      <td>0.696970</td>\n",
       "      <td>5.333333</td>\n",
       "      <td>1.787879</td>\n",
       "      <td>123.606061</td>\n",
       "      <td>0.121212</td>\n",
       "      <td>0.181818</td>\n",
       "      <td>0.606061</td>\n",
       "      <td>1.242424</td>\n",
       "      <td>5.181818</td>\n",
       "    </tr>\n",
       "    <tr>\n",
       "      <th>4</th>\n",
       "      <td>51</td>\n",
       "      <td>0.153846</td>\n",
       "      <td>2.153846</td>\n",
       "      <td>4.000000</td>\n",
       "      <td>0.076923</td>\n",
       "      <td>0.923077</td>\n",
       "      <td>5.769231</td>\n",
       "      <td>1.846154</td>\n",
       "      <td>162.384615</td>\n",
       "      <td>0.000000</td>\n",
       "      <td>0.076923</td>\n",
       "      <td>0.923077</td>\n",
       "      <td>1.615385</td>\n",
       "      <td>7.692308</td>\n",
       "    </tr>\n",
       "  </tbody>\n",
       "</table>\n",
       "</div>"
      ],
      "text/plain": [
       "   userId  avg(About)  avg(Add Friend)  avg(Add to Playlist)  avg(Error)  \\\n",
       "0  100010    0.142857         0.571429              1.000000    0.000000   \n",
       "1  200002    0.428571         0.571429              1.142857    0.000000   \n",
       "2     125    0.000000         0.000000              0.000000    0.000000   \n",
       "3     124    0.212121         2.242424              3.575758    0.181818   \n",
       "4      51    0.153846         2.153846              4.000000    0.076923   \n",
       "\n",
       "   avg(Help)  avg(Home)  avg(Logout)  avg(NextSong)  avg(Roll Advert)  \\\n",
       "0   0.285714   1.571429     0.714286      39.285714          7.428571   \n",
       "1   0.285714   2.857143     0.714286      55.285714          1.000000   \n",
       "2   0.000000   0.000000     0.000000       8.000000          1.000000   \n",
       "3   0.696970   5.333333     1.787879     123.606061          0.121212   \n",
       "4   0.923077   5.769231     1.846154     162.384615          0.000000   \n",
       "\n",
       "   avg(Save Settings)  avg(Settings)  avg(Thumbs Down)  avg(Thumbs Up)  \n",
       "0            0.000000       0.000000          0.714286        2.428571  \n",
       "1            0.000000       0.428571          0.857143        3.000000  \n",
       "2            0.000000       0.000000          0.000000        0.000000  \n",
       "3            0.181818       0.606061          1.242424        5.181818  \n",
       "4            0.076923       0.923077          1.615385        7.692308  "
      ]
     },
     "execution_count": 25,
     "metadata": {},
     "output_type": "execute_result"
    }
   ],
   "source": [
    "page_view_count_avg_per_day.toPandas().head()"
   ]
  },
  {
   "cell_type": "code",
   "execution_count": 26,
   "metadata": {},
   "outputs": [],
   "source": [
    "pd_page_view_count_avg_per_day = page_view_count_avg_per_day.join(user_churn, \"userId\", \"outer\").toPandas()\n",
    "pd_page_view_count_min_per_day = page_view_count_min_per_day.join(user_churn, \"userId\", \"outer\").toPandas()\n",
    "pd_page_view_count_max_per_day = page_view_count_max_per_day.join(user_churn, \"userId\", \"outer\").toPandas()"
   ]
  },
  {
   "cell_type": "markdown",
   "metadata": {},
   "source": [
    "Correlation between page views and churn"
   ]
  },
  {
   "cell_type": "code",
   "execution_count": 27,
   "metadata": {},
   "outputs": [
    {
     "data": {
      "image/png": "[encoded data removed]",
      "text/plain": [
       "<matplotlib.figure.Figure at 0x7f34f8e636a0>"
      ]
     },
     "metadata": {
      "needs_background": "light"
     },
     "output_type": "display_data"
    }
   ],
   "source": [
    "spearman_heatmap(pd_page_view_count_avg_per_day)"
   ]
  },
  {
   "cell_type": "code",
   "execution_count": 28,
   "metadata": {},
   "outputs": [
    {
     "data": {
      "image/png": "[encoded data removed]",
      "text/plain": [
       "<matplotlib.figure.Figure at 0x7f34f8f80da0>"
      ]
     },
     "metadata": {
      "needs_background": "light"
     },
     "output_type": "display_data"
    }
   ],
   "source": [
    "spearman_heatmap(pd_page_view_count_min_per_day)"
   ]
  },
  {
   "cell_type": "code",
   "execution_count": 29,
   "metadata": {},
   "outputs": [
    {
     "data": {
      "image/png": "[encoded data removed]",
      "text/plain": [
       "<matplotlib.figure.Figure at 0x7f34f2add3c8>"
      ]
     },
     "metadata": {
      "needs_background": "light"
     },
     "output_type": "display_data"
    }
   ],
   "source": [
    "spearman_heatmap(pd_page_view_count_max_per_day)"
   ]
  },
  {
   "cell_type": "markdown",
   "metadata": {},
   "source": [
    "It looks like pageviews per day for some of the pages have low-medium correlation with churn. I am including min/max/avg metrics for some of the pages to the final dataset."
   ]
  },
  {
   "cell_type": "markdown",
   "metadata": {},
   "source": [
    "### 3.2.7 Gender"
   ]
  },
  {
   "cell_type": "code",
   "execution_count": 39,
   "metadata": {},
   "outputs": [],
   "source": [
    "user_gender = df.select(\"userId\", \"gender\").distinct().persist()\n",
    "pd_user_gender = user_gender.join(user_churn, \"userId\", \"outer\").toPandas()"
   ]
  },
  {
   "cell_type": "code",
   "execution_count": 40,
   "metadata": {},
   "outputs": [
    {
     "data": {
      "text/html": [
       "<div>\n",
       "<style scoped>\n",
       "    .dataframe tbody tr th:only-of-type {\n",
       "        vertical-align: middle;\n",
       "    }\n",
       "\n",
       "    .dataframe tbody tr th {\n",
       "        vertical-align: top;\n",
       "    }\n",
       "\n",
       "    .dataframe thead th {\n",
       "        text-align: right;\n",
       "    }\n",
       "</style>\n",
       "<table border=\"1\" class=\"dataframe\">\n",
       "  <thead>\n",
       "    <tr style=\"text-align: right;\">\n",
       "      <th></th>\n",
       "      <th></th>\n",
       "      <th>userId</th>\n",
       "    </tr>\n",
       "    <tr>\n",
       "      <th>churn</th>\n",
       "      <th>gender</th>\n",
       "      <th></th>\n",
       "    </tr>\n",
       "  </thead>\n",
       "  <tbody>\n",
       "    <tr>\n",
       "      <th rowspan=\"2\" valign=\"top\">0</th>\n",
       "      <th>F</th>\n",
       "      <td>84</td>\n",
       "    </tr>\n",
       "    <tr>\n",
       "      <th>M</th>\n",
       "      <td>89</td>\n",
       "    </tr>\n",
       "    <tr>\n",
       "      <th rowspan=\"2\" valign=\"top\">1</th>\n",
       "      <th>F</th>\n",
       "      <td>20</td>\n",
       "    </tr>\n",
       "    <tr>\n",
       "      <th>M</th>\n",
       "      <td>32</td>\n",
       "    </tr>\n",
       "  </tbody>\n",
       "</table>\n",
       "</div>"
      ],
      "text/plain": [
       "              userId\n",
       "churn gender        \n",
       "0     F           84\n",
       "      M           89\n",
       "1     F           20\n",
       "      M           32"
      ]
     },
     "execution_count": 40,
     "metadata": {},
     "output_type": "execute_result"
    }
   ],
   "source": [
    "pd_user_gender.groupby([\"churn\", \"gender\"]).count()"
   ]
  },
  {
   "cell_type": "code",
   "execution_count": 47,
   "metadata": {},
   "outputs": [
    {
     "data": {
      "image/png": "[encoded data removed]",
      "text/plain": [
       "<matplotlib.figure.Figure at 0x7f34f2650b70>"
      ]
     },
     "metadata": {
      "needs_background": "light"
     },
     "output_type": "display_data"
    }
   ],
   "source": [
    "spearman_heatmap(pd_user_gender[[\"churn\", \"gender\"]].apply(lambda x: x.factorize()[0]))"
   ]
  },
  {
   "cell_type": "markdown",
   "metadata": {},
   "source": [
    "It looks like gender has very low correlation with churn therefore I am not adding it to the final dataset"
   ]
  },
  {
   "cell_type": "markdown",
   "metadata": {},
   "source": [
    "### 3.2.8 User session stats with service per week"
   ]
  },
  {
   "cell_type": "code",
   "execution_count": 48,
   "metadata": {},
   "outputs": [],
   "source": [
    "sessions_per_week = \\\n",
    "    df.select(\"userId\", \"sessionId\", \"week\")\\\n",
    "      .distinct() \\\n",
    "      .groupby(\"userId\", \"week\") \\\n",
    "      .agg({'sessionId':'count'}) \\\n",
    "      .groupby(\"userId\") \\\n",
    "      .agg(F.min('count(sessionId)'), F.max('count(sessionId)'), F.avg('count(sessionId)')).persist()"
   ]
  },
  {
   "cell_type": "code",
   "execution_count": 49,
   "metadata": {},
   "outputs": [],
   "source": [
    "pd_sessions_per_week = sessions_per_week.join(user_churn, \"userId\", \"outer\").toPandas()"
   ]
  },
  {
   "cell_type": "code",
   "execution_count": 50,
   "metadata": {},
   "outputs": [
    {
     "data": {
      "image/png": "[encoded data removed]",
      "text/plain": [
       "<matplotlib.figure.Figure at 0x7f34f25ffda0>"
      ]
     },
     "metadata": {
      "needs_background": "light"
     },
     "output_type": "display_data"
    }
   ],
   "source": [
    "spearman_heatmap(pd_sessions_per_week)"
   ]
  },
  {
   "cell_type": "markdown",
   "metadata": {},
   "source": [
    "Min and avg sessions per week has low-medium correlation with churn and will be added to the final dataset."
   ]
  },
  {
   "cell_type": "markdown",
   "metadata": {},
   "source": [
    "### 3.2.9 Length"
   ]
  },
  {
   "cell_type": "code",
   "execution_count": 51,
   "metadata": {},
   "outputs": [],
   "source": [
    "user_length = df.select(\"userId\", \"length\").groupby(\"userId\").agg({\"length\":\"sum\"})"
   ]
  },
  {
   "cell_type": "code",
   "execution_count": 52,
   "metadata": {},
   "outputs": [],
   "source": [
    "pd_user_length = user_length.join(user_churn, \"userId\", \"outer\").toPandas()"
   ]
  },
  {
   "cell_type": "code",
   "execution_count": 53,
   "metadata": {},
   "outputs": [
    {
     "data": {
      "image/png": "[encoded data removed]",
      "text/plain": [
       "<matplotlib.figure.Figure at 0x7f34f254e908>"
      ]
     },
     "metadata": {
      "needs_background": "light"
     },
     "output_type": "display_data"
    }
   ],
   "source": [
    "spearman_heatmap(pd_user_length)"
   ]
  },
  {
   "cell_type": "markdown",
   "metadata": {},
   "source": [
    "The total length of all listened songs will be added to the final dataset."
   ]
  },
  {
   "cell_type": "markdown",
   "metadata": {},
   "source": [
    "### 3.2.10 Time Since Registration"
   ]
  },
  {
   "cell_type": "code",
   "execution_count": 54,
   "metadata": {},
   "outputs": [],
   "source": [
    "time_since_registration = \\\n",
    "    spark.sql('''\n",
    "        SELECT userId, (MAX(ts) - AVG(registration)) / 1000 as active_time\n",
    "        FROM mini_sparkify_event_data\n",
    "        GROUP BY userId\n",
    "    ''')"
   ]
  },
  {
   "cell_type": "code",
   "execution_count": 55,
   "metadata": {},
   "outputs": [],
   "source": [
    "pd_time_since_registration = time_since_registration.join(user_churn, \"userId\", \"outer\").toPandas()"
   ]
  },
  {
   "cell_type": "code",
   "execution_count": 56,
   "metadata": {},
   "outputs": [
    {
     "data": {
      "image/png": "[encoded data removed]",
      "text/plain": [
       "<matplotlib.figure.Figure at 0x7f34f24a8908>"
      ]
     },
     "metadata": {
      "needs_background": "light"
     },
     "output_type": "display_data"
    }
   ],
   "source": [
    "spearman_heatmap(pd_time_since_registration)"
   ]
  },
  {
   "cell_type": "markdown",
   "metadata": {},
   "source": [
    "The time since registration has medium correlation with the churn."
   ]
  },
  {
   "cell_type": "markdown",
   "metadata": {},
   "source": [
    "### 3.2.10 Items in session"
   ]
  },
  {
   "cell_type": "code",
   "execution_count": 57,
   "metadata": {},
   "outputs": [],
   "source": [
    "items_in_session = \\\n",
    "    df.select(\"userId\", \"itemInSession\")\\\n",
    "      .groupby(\"userId\") \\\n",
    "      .agg(F.min('itemInSession'), F.max('itemInSession'), F.avg('itemInSession')).persist()"
   ]
  },
  {
   "cell_type": "code",
   "execution_count": 58,
   "metadata": {},
   "outputs": [],
   "source": [
    "pd_items_in_session = items_in_session.join(user_churn, \"userId\", \"outer\").toPandas()"
   ]
  },
  {
   "cell_type": "code",
   "execution_count": 59,
   "metadata": {},
   "outputs": [
    {
     "data": {
      "image/png": "[encoded data removed]",
      "text/plain": [
       "<matplotlib.figure.Figure at 0x7f34f284c438>"
      ]
     },
     "metadata": {
      "needs_background": "light"
     },
     "output_type": "display_data"
    }
   ],
   "source": [
    "spearman_heatmap(pd_items_in_session)"
   ]
  },
  {
   "cell_type": "markdown",
   "metadata": {},
   "source": [
    "Obviously the minimum and maximum item in session has positive and negative correlations and will be added to the final dataset."
   ]
  },
  {
   "cell_type": "markdown",
   "metadata": {},
   "source": [
    "# 4 Feature Engineering"
   ]
  },
  {
   "cell_type": "markdown",
   "metadata": {},
   "source": [
    "# 4.1 Making dataset out of features "
   ]
  },
  {
   "cell_type": "markdown",
   "metadata": {},
   "source": [
    "I am taking the following features into the dataset:\n",
    "- user_city\n",
    "- user_state\n",
    "- user_os\n",
    "- page_view_count_per_day\n",
    "  - Average for pageviews: About, Error, Next Song, Roll Advert, Thumbs Down, Thumbs Up\n",
    "  - Minimum for pageviews: Add friend, Add to PLaylist, Next Song, Roll Advert, Thumbs Down, Thumbs Up\n",
    "  - Maximum for pageviews: About, Add friend, Next Song, Thumbs Down\n",
    "- items_in_session\n",
    "  - min and max item in sessions\n",
    "- sessions_per_week\n",
    "  - minimum and average sessions per week\n",
    "- user_length"
   ]
  },
  {
   "cell_type": "code",
   "execution_count": 60,
   "metadata": {},
   "outputs": [],
   "source": [
    "clf_df = user_churn"
   ]
  },
  {
   "cell_type": "code",
   "execution_count": 61,
   "metadata": {},
   "outputs": [],
   "source": [
    "# user_os\n",
    "clf_df = clf_df.join(user_os, \"userId\", \"outer\" ).persist()"
   ]
  },
  {
   "cell_type": "code",
   "execution_count": 62,
   "metadata": {},
   "outputs": [],
   "source": [
    "# pageview counts per day\n",
    "page_view_count_avg_per_day = page_view_count_avg_per_day.select(\"userId\", \"avg(About)\", \"avg(Error)\", \"avg(NextSong)\", \"avg(Roll Advert)\", \"avg(Thumbs Down)\", \"avg(Thumbs Up)\")\n",
    "page_view_count_min_per_day = page_view_count_min_per_day.select(\"userId\", \"min(Add Friend)\", \"min(Add to Playlist)\", \"min(NextSong)\", \"min(Roll Advert)\", \"min(Thumbs Down)\", \"min(Thumbs Up)\")\n",
    "page_view_count_max_per_day = page_view_count_max_per_day.select(\"userId\", \"max(About)\", \"max(Add Friend)\", \"max(Add to Playlist)\", \"max(NextSong)\", \"max(Roll Advert)\", \"max(Thumbs Down)\")\n"
   ]
  },
  {
   "cell_type": "code",
   "execution_count": 63,
   "metadata": {},
   "outputs": [],
   "source": [
    "clf_df = clf_df.join(page_view_count_avg_per_day, \"userId\", \"outer\" ).persist()\n",
    "clf_df = clf_df.join(page_view_count_min_per_day, \"userId\", \"outer\" ).persist()\n",
    "clf_df = clf_df.join(page_view_count_max_per_day, \"userId\", \"outer\" ).persist()"
   ]
  },
  {
   "cell_type": "code",
   "execution_count": 64,
   "metadata": {},
   "outputs": [],
   "source": [
    "items_in_session = items_in_session.select(\"userId\", \"min(itemInSession)\", \"max(itemInSession)\")"
   ]
  },
  {
   "cell_type": "code",
   "execution_count": 65,
   "metadata": {},
   "outputs": [],
   "source": [
    "clf_df = clf_df.join(items_in_session, \"userId\", \"outer\").persist()"
   ]
  },
  {
   "cell_type": "code",
   "execution_count": 66,
   "metadata": {},
   "outputs": [],
   "source": [
    "sessions_per_week = sessions_per_week.select(\"userId\", \"min(count(sessionId))\", \"max(count(sessionId))\", \"avg(count(sessionId))\")"
   ]
  },
  {
   "cell_type": "code",
   "execution_count": 67,
   "metadata": {},
   "outputs": [],
   "source": [
    "clf_df = clf_df.join(sessions_per_week, \"userId\", \"outer\").persist()"
   ]
  },
  {
   "cell_type": "code",
   "execution_count": 68,
   "metadata": {},
   "outputs": [],
   "source": [
    "# user_state\n",
    "clf_df = clf_df.join(user_state, \"userId\", \"outer\" ).persist()"
   ]
  },
  {
   "cell_type": "code",
   "execution_count": 69,
   "metadata": {},
   "outputs": [],
   "source": [
    "# user_city\n",
    "clf_df = clf_df.join(user_city, \"userId\", \"outer\" ).persist()"
   ]
  },
  {
   "cell_type": "code",
   "execution_count": 70,
   "metadata": {},
   "outputs": [],
   "source": [
    "# user_length\n",
    "clf_df = clf_df.join(user_length, \"userId\", \"outer\" ).persist()"
   ]
  },
  {
   "cell_type": "code",
   "execution_count": 71,
   "metadata": {},
   "outputs": [],
   "source": [
    "clf_df = clf_df.join(time_since_registration, \"userId\", \"outer\" ).persist()"
   ]
  },
  {
   "cell_type": "code",
   "execution_count": 72,
   "metadata": {},
   "outputs": [
    {
     "name": "stdout",
     "output_type": "stream",
     "text": [
      "root\n",
      " |-- userId: string (nullable = true)\n",
      " |-- churn: long (nullable = true)\n",
      " |-- user_os: string (nullable = true)\n",
      " |-- avg(About): double (nullable = true)\n",
      " |-- avg(Error): double (nullable = true)\n",
      " |-- avg(NextSong): double (nullable = true)\n",
      " |-- avg(Roll Advert): double (nullable = true)\n",
      " |-- avg(Thumbs Down): double (nullable = true)\n",
      " |-- avg(Thumbs Up): double (nullable = true)\n",
      " |-- min(Add Friend): long (nullable = true)\n",
      " |-- min(Add to Playlist): long (nullable = true)\n",
      " |-- min(NextSong): long (nullable = true)\n",
      " |-- min(Roll Advert): long (nullable = true)\n",
      " |-- min(Thumbs Down): long (nullable = true)\n",
      " |-- min(Thumbs Up): long (nullable = true)\n",
      " |-- max(About): long (nullable = true)\n",
      " |-- max(Add Friend): long (nullable = true)\n",
      " |-- max(Add to Playlist): long (nullable = true)\n",
      " |-- max(NextSong): long (nullable = true)\n",
      " |-- max(Roll Advert): long (nullable = true)\n",
      " |-- max(Thumbs Down): long (nullable = true)\n",
      " |-- min(itemInSession): long (nullable = true)\n",
      " |-- max(itemInSession): long (nullable = true)\n",
      " |-- min(count(sessionId)): long (nullable = true)\n",
      " |-- max(count(sessionId)): long (nullable = true)\n",
      " |-- avg(count(sessionId)): double (nullable = true)\n",
      " |-- location_state: string (nullable = true)\n",
      " |-- location_city: string (nullable = true)\n",
      " |-- sum(length): double (nullable = true)\n",
      " |-- active_time: double (nullable = true)\n",
      "\n"
     ]
    }
   ],
   "source": [
    "clf_df.printSchema()"
   ]
  },
  {
   "cell_type": "code",
   "execution_count": 73,
   "metadata": {},
   "outputs": [],
   "source": [
    "dataset = clf_df.drop(\"userId\").fillna(0).persist()"
   ]
  },
  {
   "cell_type": "code",
   "execution_count": 74,
   "metadata": {},
   "outputs": [],
   "source": [
    "mapping_list = [['churn', 'churn'], \n",
    "                   ['user_os', 'user_os'],\n",
    "                   ['location_state', 'location_state'],\n",
    "                   ['location_city', 'location_city'],\n",
    "                   ['sum(length)', 'length_sum'],\n",
    "                   ['avg(About)', 'page_view_about_avg'],\n",
    "                   ['avg(Error)', 'page_view_error_avg'],\n",
    "                   ['avg(NextSong)', 'page_view_next_song_avg'],\n",
    "                   ['avg(Roll Advert)', 'page_view_roll_advert_avg'],\n",
    "                   ['avg(Thumbs Down)', 'page_view_thumbs_down_avg'],\n",
    "                   ['avg(Thumbs Up)', 'page_view_thumbs_up_avg'],\n",
    "                   ['min(Add Friend)', 'page_view_add_friend_min'],\n",
    "                   ['min(Add to Playlist)', 'page_view_add_to_playlist_min'],\n",
    "                   ['min(NextSong)', 'page_view_next_song_min'],\n",
    "                   ['min(Roll Advert)', 'page_view_roll_advert_min'],\n",
    "                   ['min(Thumbs Down)', 'page_view_thumbs_down_min'],\n",
    "                   ['min(Thumbs Up)', 'page_view_thumbs_up_min'],\n",
    "                   ['max(About)', 'page_view_about_max'],\n",
    "                   ['max(Add Friend)', 'page_view_add_friend_max'],\n",
    "                   ['max(Add to Playlist)', 'page_view_add_to_playlist_max'],\n",
    "                   ['max(NextSong)', 'page_view_next_song_max'],\n",
    "                   ['max(Roll Advert)', 'page_view_roll_advert_max'],\n",
    "                   ['max(Thumbs Down)', 'page_view_thumbs_down_max'],\n",
    "                   ['min(itemInSession)', 'item_in_session_min'],\n",
    "                   ['max(itemInSession)', 'item_in_session_max'],\n",
    "                   ['min(count(sessionId))', 'session_count_min'],\n",
    "                   ['avg(count(sessionId))', 'session_count_avg'],\n",
    "                   ['max(count(sessionId))', 'session_count_max']]\n",
    "mapping = {m[0]:m[1] for m in mapping_list}\n",
    "dataset = dataset.select([F.col(c).alias(mapping.get(c, c)) for c in dataset.columns])"
   ]
  },
  {
   "cell_type": "code",
   "execution_count": 75,
   "metadata": {},
   "outputs": [],
   "source": [
    "dataset.createOrReplaceTempView(\"input_dataset\")"
   ]
  },
  {
   "cell_type": "code",
   "execution_count": 76,
   "metadata": {},
   "outputs": [
    {
     "name": "stdout",
     "output_type": "stream",
     "text": [
      "root\n",
      " |-- churn: long (nullable = true)\n",
      " |-- user_os: string (nullable = true)\n",
      " |-- page_view_about_avg: double (nullable = false)\n",
      " |-- page_view_error_avg: double (nullable = false)\n",
      " |-- page_view_next_song_avg: double (nullable = false)\n",
      " |-- page_view_roll_advert_avg: double (nullable = false)\n",
      " |-- page_view_thumbs_down_avg: double (nullable = false)\n",
      " |-- page_view_thumbs_up_avg: double (nullable = false)\n",
      " |-- page_view_add_friend_min: long (nullable = true)\n",
      " |-- page_view_add_to_playlist_min: long (nullable = true)\n",
      " |-- page_view_next_song_min: long (nullable = true)\n",
      " |-- page_view_roll_advert_min: long (nullable = true)\n",
      " |-- page_view_thumbs_down_min: long (nullable = true)\n",
      " |-- page_view_thumbs_up_min: long (nullable = true)\n",
      " |-- page_view_about_max: long (nullable = true)\n",
      " |-- page_view_add_friend_max: long (nullable = true)\n",
      " |-- page_view_add_to_playlist_max: long (nullable = true)\n",
      " |-- page_view_next_song_max: long (nullable = true)\n",
      " |-- page_view_roll_advert_max: long (nullable = true)\n",
      " |-- page_view_thumbs_down_max: long (nullable = true)\n",
      " |-- item_in_session_min: long (nullable = true)\n",
      " |-- item_in_session_max: long (nullable = true)\n",
      " |-- session_count_min: long (nullable = true)\n",
      " |-- session_count_max: long (nullable = true)\n",
      " |-- session_count_avg: double (nullable = false)\n",
      " |-- location_state: string (nullable = true)\n",
      " |-- location_city: string (nullable = true)\n",
      " |-- length_sum: double (nullable = false)\n",
      " |-- active_time: double (nullable = false)\n",
      "\n"
     ]
    }
   ],
   "source": [
    "dataset.printSchema()"
   ]
  },
  {
   "cell_type": "code",
   "execution_count": 77,
   "metadata": {},
   "outputs": [
    {
     "data": {
      "text/html": [
       "<div>\n",
       "<style scoped>\n",
       "    .dataframe tbody tr th:only-of-type {\n",
       "        vertical-align: middle;\n",
       "    }\n",
       "\n",
       "    .dataframe tbody tr th {\n",
       "        vertical-align: top;\n",
       "    }\n",
       "\n",
       "    .dataframe thead th {\n",
       "        text-align: right;\n",
       "    }\n",
       "</style>\n",
       "<table border=\"1\" class=\"dataframe\">\n",
       "  <thead>\n",
       "    <tr style=\"text-align: right;\">\n",
       "      <th></th>\n",
       "      <th>churn</th>\n",
       "      <th>user_os</th>\n",
       "      <th>page_view_about_avg</th>\n",
       "      <th>page_view_error_avg</th>\n",
       "      <th>page_view_next_song_avg</th>\n",
       "      <th>page_view_roll_advert_avg</th>\n",
       "      <th>page_view_thumbs_down_avg</th>\n",
       "      <th>page_view_thumbs_up_avg</th>\n",
       "      <th>page_view_add_friend_min</th>\n",
       "      <th>page_view_add_to_playlist_min</th>\n",
       "      <th>...</th>\n",
       "      <th>page_view_thumbs_down_max</th>\n",
       "      <th>item_in_session_min</th>\n",
       "      <th>item_in_session_max</th>\n",
       "      <th>session_count_min</th>\n",
       "      <th>session_count_max</th>\n",
       "      <th>session_count_avg</th>\n",
       "      <th>location_state</th>\n",
       "      <th>location_city</th>\n",
       "      <th>length_sum</th>\n",
       "      <th>active_time</th>\n",
       "    </tr>\n",
       "  </thead>\n",
       "  <tbody>\n",
       "    <tr>\n",
       "      <th>0</th>\n",
       "      <td>0</td>\n",
       "      <td>iPhone</td>\n",
       "      <td>0.142857</td>\n",
       "      <td>0.000000</td>\n",
       "      <td>39.285714</td>\n",
       "      <td>7.428571</td>\n",
       "      <td>0.714286</td>\n",
       "      <td>2.428571</td>\n",
       "      <td>0</td>\n",
       "      <td>0</td>\n",
       "      <td>...</td>\n",
       "      <td>2</td>\n",
       "      <td>0</td>\n",
       "      <td>111</td>\n",
       "      <td>1</td>\n",
       "      <td>2</td>\n",
       "      <td>1.166667</td>\n",
       "      <td>CT</td>\n",
       "      <td>Bridgeport-Stamford-Norwalk</td>\n",
       "      <td>6.694090e+04</td>\n",
       "      <td>4807612.0</td>\n",
       "    </tr>\n",
       "    <tr>\n",
       "      <th>1</th>\n",
       "      <td>0</td>\n",
       "      <td>iPhone</td>\n",
       "      <td>0.428571</td>\n",
       "      <td>0.000000</td>\n",
       "      <td>55.285714</td>\n",
       "      <td>1.000000</td>\n",
       "      <td>0.857143</td>\n",
       "      <td>3.000000</td>\n",
       "      <td>0</td>\n",
       "      <td>0</td>\n",
       "      <td>...</td>\n",
       "      <td>4</td>\n",
       "      <td>0</td>\n",
       "      <td>157</td>\n",
       "      <td>1</td>\n",
       "      <td>2</td>\n",
       "      <td>1.500000</td>\n",
       "      <td>IL-IN-WI</td>\n",
       "      <td>Chicago-Naperville-Elgin</td>\n",
       "      <td>9.400888e+04</td>\n",
       "      <td>6054448.0</td>\n",
       "    </tr>\n",
       "    <tr>\n",
       "      <th>2</th>\n",
       "      <td>1</td>\n",
       "      <td>Macintosh</td>\n",
       "      <td>0.000000</td>\n",
       "      <td>0.000000</td>\n",
       "      <td>8.000000</td>\n",
       "      <td>1.000000</td>\n",
       "      <td>0.000000</td>\n",
       "      <td>0.000000</td>\n",
       "      <td>0</td>\n",
       "      <td>0</td>\n",
       "      <td>...</td>\n",
       "      <td>0</td>\n",
       "      <td>0</td>\n",
       "      <td>10</td>\n",
       "      <td>1</td>\n",
       "      <td>1</td>\n",
       "      <td>1.000000</td>\n",
       "      <td>TX</td>\n",
       "      <td>Corpus-Christi</td>\n",
       "      <td>2.089113e+03</td>\n",
       "      <td>6161779.0</td>\n",
       "    </tr>\n",
       "    <tr>\n",
       "      <th>3</th>\n",
       "      <td>0</td>\n",
       "      <td>Macintosh</td>\n",
       "      <td>0.212121</td>\n",
       "      <td>0.181818</td>\n",
       "      <td>123.606061</td>\n",
       "      <td>0.121212</td>\n",
       "      <td>1.242424</td>\n",
       "      <td>5.181818</td>\n",
       "      <td>0</td>\n",
       "      <td>0</td>\n",
       "      <td>...</td>\n",
       "      <td>9</td>\n",
       "      <td>0</td>\n",
       "      <td>530</td>\n",
       "      <td>1</td>\n",
       "      <td>5</td>\n",
       "      <td>2.900000</td>\n",
       "      <td>NJ</td>\n",
       "      <td>Vineland-Bridgeton</td>\n",
       "      <td>1.012312e+06</td>\n",
       "      <td>11366431.0</td>\n",
       "    </tr>\n",
       "    <tr>\n",
       "      <th>4</th>\n",
       "      <td>1</td>\n",
       "      <td>Windows-NT-6-1</td>\n",
       "      <td>0.153846</td>\n",
       "      <td>0.076923</td>\n",
       "      <td>162.384615</td>\n",
       "      <td>0.000000</td>\n",
       "      <td>1.615385</td>\n",
       "      <td>7.692308</td>\n",
       "      <td>0</td>\n",
       "      <td>0</td>\n",
       "      <td>...</td>\n",
       "      <td>3</td>\n",
       "      <td>0</td>\n",
       "      <td>619</td>\n",
       "      <td>1</td>\n",
       "      <td>6</td>\n",
       "      <td>3.666667</td>\n",
       "      <td>KY</td>\n",
       "      <td>Lexington-Fayette</td>\n",
       "      <td>5.232758e+05</td>\n",
       "      <td>1680985.0</td>\n",
       "    </tr>\n",
       "    <tr>\n",
       "      <th>5</th>\n",
       "      <td>0</td>\n",
       "      <td>Windows-NT-6-1</td>\n",
       "      <td>0.000000</td>\n",
       "      <td>0.125000</td>\n",
       "      <td>18.750000</td>\n",
       "      <td>2.000000</td>\n",
       "      <td>0.125000</td>\n",
       "      <td>0.875000</td>\n",
       "      <td>0</td>\n",
       "      <td>0</td>\n",
       "      <td>...</td>\n",
       "      <td>1</td>\n",
       "      <td>0</td>\n",
       "      <td>92</td>\n",
       "      <td>1</td>\n",
       "      <td>2</td>\n",
       "      <td>1.142857</td>\n",
       "      <td>WA</td>\n",
       "      <td>Seattle-Tacoma-Bellevue</td>\n",
       "      <td>3.803409e+04</td>\n",
       "      <td>6288035.0</td>\n",
       "    </tr>\n",
       "    <tr>\n",
       "      <th>6</th>\n",
       "      <td>0</td>\n",
       "      <td>Windows-NT-6-1</td>\n",
       "      <td>0.105263</td>\n",
       "      <td>0.105263</td>\n",
       "      <td>100.736842</td>\n",
       "      <td>0.052632</td>\n",
       "      <td>0.736842</td>\n",
       "      <td>4.263158</td>\n",
       "      <td>0</td>\n",
       "      <td>0</td>\n",
       "      <td>...</td>\n",
       "      <td>3</td>\n",
       "      <td>0</td>\n",
       "      <td>423</td>\n",
       "      <td>1</td>\n",
       "      <td>4</td>\n",
       "      <td>2.000000</td>\n",
       "      <td>WV</td>\n",
       "      <td>Morgantown</td>\n",
       "      <td>4.773076e+05</td>\n",
       "      <td>4882773.0</td>\n",
       "    </tr>\n",
       "    <tr>\n",
       "      <th>7</th>\n",
       "      <td>1</td>\n",
       "      <td>Windows-NT-6-1</td>\n",
       "      <td>0.161290</td>\n",
       "      <td>0.032258</td>\n",
       "      <td>91.645161</td>\n",
       "      <td>1.516129</td>\n",
       "      <td>0.935484</td>\n",
       "      <td>5.258065</td>\n",
       "      <td>0</td>\n",
       "      <td>0</td>\n",
       "      <td>...</td>\n",
       "      <td>3</td>\n",
       "      <td>0</td>\n",
       "      <td>581</td>\n",
       "      <td>2</td>\n",
       "      <td>8</td>\n",
       "      <td>5.714286</td>\n",
       "      <td>WA</td>\n",
       "      <td>Spokane-Spokane-Valley</td>\n",
       "      <td>7.113449e+05</td>\n",
       "      <td>9568946.0</td>\n",
       "    </tr>\n",
       "    <tr>\n",
       "      <th>8</th>\n",
       "      <td>0</td>\n",
       "      <td>Windows-NT-6-1</td>\n",
       "      <td>0.250000</td>\n",
       "      <td>0.375000</td>\n",
       "      <td>102.500000</td>\n",
       "      <td>1.000000</td>\n",
       "      <td>0.375000</td>\n",
       "      <td>7.250000</td>\n",
       "      <td>0</td>\n",
       "      <td>1</td>\n",
       "      <td>...</td>\n",
       "      <td>1</td>\n",
       "      <td>0</td>\n",
       "      <td>334</td>\n",
       "      <td>1</td>\n",
       "      <td>2</td>\n",
       "      <td>1.500000</td>\n",
       "      <td>MA-NH</td>\n",
       "      <td>Boston-Cambridge-Newton</td>\n",
       "      <td>1.987793e+05</td>\n",
       "      <td>2035240.0</td>\n",
       "    </tr>\n",
       "    <tr>\n",
       "      <th>9</th>\n",
       "      <td>1</td>\n",
       "      <td>Windows-NT-6-1</td>\n",
       "      <td>0.000000</td>\n",
       "      <td>0.000000</td>\n",
       "      <td>42.833333</td>\n",
       "      <td>0.333333</td>\n",
       "      <td>0.500000</td>\n",
       "      <td>2.833333</td>\n",
       "      <td>0</td>\n",
       "      <td>0</td>\n",
       "      <td>...</td>\n",
       "      <td>1</td>\n",
       "      <td>0</td>\n",
       "      <td>94</td>\n",
       "      <td>1</td>\n",
       "      <td>2</td>\n",
       "      <td>1.200000</td>\n",
       "      <td>NY-NJ-PA</td>\n",
       "      <td>New-York-Newark-Jersey-City</td>\n",
       "      <td>6.770347e+04</td>\n",
       "      <td>7351206.0</td>\n",
       "    </tr>\n",
       "  </tbody>\n",
       "</table>\n",
       "<p>10 rows × 29 columns</p>\n",
       "</div>"
      ],
      "text/plain": [
       "   churn         user_os  page_view_about_avg  page_view_error_avg  \\\n",
       "0      0          iPhone             0.142857             0.000000   \n",
       "1      0          iPhone             0.428571             0.000000   \n",
       "2      1       Macintosh             0.000000             0.000000   \n",
       "3      0       Macintosh             0.212121             0.181818   \n",
       "4      1  Windows-NT-6-1             0.153846             0.076923   \n",
       "5      0  Windows-NT-6-1             0.000000             0.125000   \n",
       "6      0  Windows-NT-6-1             0.105263             0.105263   \n",
       "7      1  Windows-NT-6-1             0.161290             0.032258   \n",
       "8      0  Windows-NT-6-1             0.250000             0.375000   \n",
       "9      1  Windows-NT-6-1             0.000000             0.000000   \n",
       "\n",
       "   page_view_next_song_avg  page_view_roll_advert_avg  \\\n",
       "0                39.285714                   7.428571   \n",
       "1                55.285714                   1.000000   \n",
       "2                 8.000000                   1.000000   \n",
       "3               123.606061                   0.121212   \n",
       "4               162.384615                   0.000000   \n",
       "5                18.750000                   2.000000   \n",
       "6               100.736842                   0.052632   \n",
       "7                91.645161                   1.516129   \n",
       "8               102.500000                   1.000000   \n",
       "9                42.833333                   0.333333   \n",
       "\n",
       "   page_view_thumbs_down_avg  page_view_thumbs_up_avg  \\\n",
       "0                   0.714286                 2.428571   \n",
       "1                   0.857143                 3.000000   \n",
       "2                   0.000000                 0.000000   \n",
       "3                   1.242424                 5.181818   \n",
       "4                   1.615385                 7.692308   \n",
       "5                   0.125000                 0.875000   \n",
       "6                   0.736842                 4.263158   \n",
       "7                   0.935484                 5.258065   \n",
       "8                   0.375000                 7.250000   \n",
       "9                   0.500000                 2.833333   \n",
       "\n",
       "   page_view_add_friend_min  page_view_add_to_playlist_min     ...       \\\n",
       "0                         0                              0     ...        \n",
       "1                         0                              0     ...        \n",
       "2                         0                              0     ...        \n",
       "3                         0                              0     ...        \n",
       "4                         0                              0     ...        \n",
       "5                         0                              0     ...        \n",
       "6                         0                              0     ...        \n",
       "7                         0                              0     ...        \n",
       "8                         0                              1     ...        \n",
       "9                         0                              0     ...        \n",
       "\n",
       "   page_view_thumbs_down_max  item_in_session_min  item_in_session_max  \\\n",
       "0                          2                    0                  111   \n",
       "1                          4                    0                  157   \n",
       "2                          0                    0                   10   \n",
       "3                          9                    0                  530   \n",
       "4                          3                    0                  619   \n",
       "5                          1                    0                   92   \n",
       "6                          3                    0                  423   \n",
       "7                          3                    0                  581   \n",
       "8                          1                    0                  334   \n",
       "9                          1                    0                   94   \n",
       "\n",
       "   session_count_min  session_count_max  session_count_avg  location_state  \\\n",
       "0                  1                  2           1.166667              CT   \n",
       "1                  1                  2           1.500000        IL-IN-WI   \n",
       "2                  1                  1           1.000000              TX   \n",
       "3                  1                  5           2.900000              NJ   \n",
       "4                  1                  6           3.666667              KY   \n",
       "5                  1                  2           1.142857              WA   \n",
       "6                  1                  4           2.000000              WV   \n",
       "7                  2                  8           5.714286              WA   \n",
       "8                  1                  2           1.500000           MA-NH   \n",
       "9                  1                  2           1.200000        NY-NJ-PA   \n",
       "\n",
       "                 location_city    length_sum  active_time  \n",
       "0  Bridgeport-Stamford-Norwalk  6.694090e+04    4807612.0  \n",
       "1     Chicago-Naperville-Elgin  9.400888e+04    6054448.0  \n",
       "2               Corpus-Christi  2.089113e+03    6161779.0  \n",
       "3           Vineland-Bridgeton  1.012312e+06   11366431.0  \n",
       "4            Lexington-Fayette  5.232758e+05    1680985.0  \n",
       "5      Seattle-Tacoma-Bellevue  3.803409e+04    6288035.0  \n",
       "6                   Morgantown  4.773076e+05    4882773.0  \n",
       "7       Spokane-Spokane-Valley  7.113449e+05    9568946.0  \n",
       "8      Boston-Cambridge-Newton  1.987793e+05    2035240.0  \n",
       "9  New-York-Newark-Jersey-City  6.770347e+04    7351206.0  \n",
       "\n",
       "[10 rows x 29 columns]"
      ]
     },
     "execution_count": 77,
     "metadata": {},
     "output_type": "execute_result"
    }
   ],
   "source": [
    "pd_input_dataset = spark.sql(\"SELECT * FROM input_dataset LIMIT 10\").toPandas().dropna()\n",
    "pd_input_dataset"
   ]
  },
  {
   "cell_type": "markdown",
   "metadata": {},
   "source": [
    "## 4.2 Inspecting feature distributions"
   ]
  },
  {
   "cell_type": "markdown",
   "metadata": {},
   "source": [
    "I verify that the feature distributions have no scaling issues."
   ]
  },
  {
   "cell_type": "code",
   "execution_count": 78,
   "metadata": {},
   "outputs": [
    {
     "name": "stdout",
     "output_type": "stream",
     "text": [
      "Feature Distributions.\n"
     ]
    },
    {
     "data": {
      "image/png": "[encoded data removed]",
      "text/plain": [
       "<matplotlib.figure.Figure at 0x7f34f2b2dc88>"
      ]
     },
     "metadata": {
      "needs_background": "light"
     },
     "output_type": "display_data"
    }
   ],
   "source": [
    "pd_input_dataset.hist(figsize=(20,20))\n",
    "print(\"Feature Distributions.\")"
   ]
  },
  {
   "cell_type": "markdown",
   "metadata": {},
   "source": [
    "I apply log scale to `active_time` and `lengths_sum` as they seem to big."
   ]
  },
  {
   "cell_type": "code",
   "execution_count": 79,
   "metadata": {},
   "outputs": [
    {
     "data": {
      "text/html": [
       "<div>\n",
       "<style scoped>\n",
       "    .dataframe tbody tr th:only-of-type {\n",
       "        vertical-align: middle;\n",
       "    }\n",
       "\n",
       "    .dataframe tbody tr th {\n",
       "        vertical-align: top;\n",
       "    }\n",
       "\n",
       "    .dataframe thead th {\n",
       "        text-align: right;\n",
       "    }\n",
       "</style>\n",
       "<table border=\"1\" class=\"dataframe\">\n",
       "  <thead>\n",
       "    <tr style=\"text-align: right;\">\n",
       "      <th></th>\n",
       "      <th>churn</th>\n",
       "      <th>user_os</th>\n",
       "      <th>page_view_about_avg</th>\n",
       "      <th>page_view_error_avg</th>\n",
       "      <th>page_view_next_song_avg</th>\n",
       "      <th>page_view_roll_advert_avg</th>\n",
       "      <th>page_view_thumbs_down_avg</th>\n",
       "      <th>page_view_thumbs_up_avg</th>\n",
       "      <th>page_view_add_friend_min</th>\n",
       "      <th>page_view_add_to_playlist_min</th>\n",
       "      <th>...</th>\n",
       "      <th>page_view_thumbs_down_max</th>\n",
       "      <th>item_in_session_min</th>\n",
       "      <th>item_in_session_max</th>\n",
       "      <th>session_count_min</th>\n",
       "      <th>session_count_max</th>\n",
       "      <th>session_count_avg</th>\n",
       "      <th>location_state</th>\n",
       "      <th>location_city</th>\n",
       "      <th>length_sum</th>\n",
       "      <th>active_time</th>\n",
       "    </tr>\n",
       "  </thead>\n",
       "  <tbody>\n",
       "    <tr>\n",
       "      <th>0</th>\n",
       "      <td>0</td>\n",
       "      <td>iPhone</td>\n",
       "      <td>0.142857</td>\n",
       "      <td>0.000000</td>\n",
       "      <td>39.285714</td>\n",
       "      <td>7.428571</td>\n",
       "      <td>0.714286</td>\n",
       "      <td>2.428571</td>\n",
       "      <td>0</td>\n",
       "      <td>0</td>\n",
       "      <td>...</td>\n",
       "      <td>2</td>\n",
       "      <td>0</td>\n",
       "      <td>111</td>\n",
       "      <td>1</td>\n",
       "      <td>2</td>\n",
       "      <td>1.166667</td>\n",
       "      <td>CT</td>\n",
       "      <td>Bridgeport-Stamford-Norwalk</td>\n",
       "      <td>11.111580</td>\n",
       "      <td>15.385711</td>\n",
       "    </tr>\n",
       "    <tr>\n",
       "      <th>1</th>\n",
       "      <td>0</td>\n",
       "      <td>iPhone</td>\n",
       "      <td>0.428571</td>\n",
       "      <td>0.000000</td>\n",
       "      <td>55.285714</td>\n",
       "      <td>1.000000</td>\n",
       "      <td>0.857143</td>\n",
       "      <td>3.000000</td>\n",
       "      <td>0</td>\n",
       "      <td>0</td>\n",
       "      <td>...</td>\n",
       "      <td>4</td>\n",
       "      <td>0</td>\n",
       "      <td>157</td>\n",
       "      <td>1</td>\n",
       "      <td>2</td>\n",
       "      <td>1.500000</td>\n",
       "      <td>IL-IN-WI</td>\n",
       "      <td>Chicago-Naperville-Elgin</td>\n",
       "      <td>11.451155</td>\n",
       "      <td>15.616304</td>\n",
       "    </tr>\n",
       "    <tr>\n",
       "      <th>2</th>\n",
       "      <td>1</td>\n",
       "      <td>Macintosh</td>\n",
       "      <td>0.000000</td>\n",
       "      <td>0.000000</td>\n",
       "      <td>8.000000</td>\n",
       "      <td>1.000000</td>\n",
       "      <td>0.000000</td>\n",
       "      <td>0.000000</td>\n",
       "      <td>0</td>\n",
       "      <td>0</td>\n",
       "      <td>...</td>\n",
       "      <td>0</td>\n",
       "      <td>0</td>\n",
       "      <td>10</td>\n",
       "      <td>1</td>\n",
       "      <td>1</td>\n",
       "      <td>1.000000</td>\n",
       "      <td>TX</td>\n",
       "      <td>Corpus-Christi</td>\n",
       "      <td>7.644973</td>\n",
       "      <td>15.633876</td>\n",
       "    </tr>\n",
       "    <tr>\n",
       "      <th>3</th>\n",
       "      <td>0</td>\n",
       "      <td>Macintosh</td>\n",
       "      <td>0.212121</td>\n",
       "      <td>0.181818</td>\n",
       "      <td>123.606061</td>\n",
       "      <td>0.121212</td>\n",
       "      <td>1.242424</td>\n",
       "      <td>5.181818</td>\n",
       "      <td>0</td>\n",
       "      <td>0</td>\n",
       "      <td>...</td>\n",
       "      <td>9</td>\n",
       "      <td>0</td>\n",
       "      <td>530</td>\n",
       "      <td>1</td>\n",
       "      <td>5</td>\n",
       "      <td>2.900000</td>\n",
       "      <td>NJ</td>\n",
       "      <td>Vineland-Bridgeton</td>\n",
       "      <td>13.827748</td>\n",
       "      <td>16.246175</td>\n",
       "    </tr>\n",
       "    <tr>\n",
       "      <th>4</th>\n",
       "      <td>1</td>\n",
       "      <td>Windows-NT-6-1</td>\n",
       "      <td>0.153846</td>\n",
       "      <td>0.076923</td>\n",
       "      <td>162.384615</td>\n",
       "      <td>0.000000</td>\n",
       "      <td>1.615385</td>\n",
       "      <td>7.692308</td>\n",
       "      <td>0</td>\n",
       "      <td>0</td>\n",
       "      <td>...</td>\n",
       "      <td>3</td>\n",
       "      <td>0</td>\n",
       "      <td>619</td>\n",
       "      <td>1</td>\n",
       "      <td>6</td>\n",
       "      <td>3.666667</td>\n",
       "      <td>KY</td>\n",
       "      <td>Lexington-Fayette</td>\n",
       "      <td>13.167866</td>\n",
       "      <td>14.334891</td>\n",
       "    </tr>\n",
       "    <tr>\n",
       "      <th>5</th>\n",
       "      <td>0</td>\n",
       "      <td>Windows-NT-6-1</td>\n",
       "      <td>0.000000</td>\n",
       "      <td>0.125000</td>\n",
       "      <td>18.750000</td>\n",
       "      <td>2.000000</td>\n",
       "      <td>0.125000</td>\n",
       "      <td>0.875000</td>\n",
       "      <td>0</td>\n",
       "      <td>0</td>\n",
       "      <td>...</td>\n",
       "      <td>1</td>\n",
       "      <td>0</td>\n",
       "      <td>92</td>\n",
       "      <td>1</td>\n",
       "      <td>2</td>\n",
       "      <td>1.142857</td>\n",
       "      <td>WA</td>\n",
       "      <td>Seattle-Tacoma-Bellevue</td>\n",
       "      <td>10.546264</td>\n",
       "      <td>15.654159</td>\n",
       "    </tr>\n",
       "    <tr>\n",
       "      <th>6</th>\n",
       "      <td>0</td>\n",
       "      <td>Windows-NT-6-1</td>\n",
       "      <td>0.105263</td>\n",
       "      <td>0.105263</td>\n",
       "      <td>100.736842</td>\n",
       "      <td>0.052632</td>\n",
       "      <td>0.736842</td>\n",
       "      <td>4.263158</td>\n",
       "      <td>0</td>\n",
       "      <td>0</td>\n",
       "      <td>...</td>\n",
       "      <td>3</td>\n",
       "      <td>0</td>\n",
       "      <td>423</td>\n",
       "      <td>1</td>\n",
       "      <td>4</td>\n",
       "      <td>2.000000</td>\n",
       "      <td>WV</td>\n",
       "      <td>Morgantown</td>\n",
       "      <td>13.075919</td>\n",
       "      <td>15.401224</td>\n",
       "    </tr>\n",
       "    <tr>\n",
       "      <th>7</th>\n",
       "      <td>1</td>\n",
       "      <td>Windows-NT-6-1</td>\n",
       "      <td>0.161290</td>\n",
       "      <td>0.032258</td>\n",
       "      <td>91.645161</td>\n",
       "      <td>1.516129</td>\n",
       "      <td>0.935484</td>\n",
       "      <td>5.258065</td>\n",
       "      <td>0</td>\n",
       "      <td>0</td>\n",
       "      <td>...</td>\n",
       "      <td>3</td>\n",
       "      <td>0</td>\n",
       "      <td>581</td>\n",
       "      <td>2</td>\n",
       "      <td>8</td>\n",
       "      <td>5.714286</td>\n",
       "      <td>WA</td>\n",
       "      <td>Spokane-Spokane-Valley</td>\n",
       "      <td>13.474914</td>\n",
       "      <td>16.074034</td>\n",
       "    </tr>\n",
       "    <tr>\n",
       "      <th>8</th>\n",
       "      <td>0</td>\n",
       "      <td>Windows-NT-6-1</td>\n",
       "      <td>0.250000</td>\n",
       "      <td>0.375000</td>\n",
       "      <td>102.500000</td>\n",
       "      <td>1.000000</td>\n",
       "      <td>0.375000</td>\n",
       "      <td>7.250000</td>\n",
       "      <td>0</td>\n",
       "      <td>1</td>\n",
       "      <td>...</td>\n",
       "      <td>1</td>\n",
       "      <td>0</td>\n",
       "      <td>334</td>\n",
       "      <td>1</td>\n",
       "      <td>2</td>\n",
       "      <td>1.500000</td>\n",
       "      <td>MA-NH</td>\n",
       "      <td>Boston-Cambridge-Newton</td>\n",
       "      <td>12.199955</td>\n",
       "      <td>14.526125</td>\n",
       "    </tr>\n",
       "    <tr>\n",
       "      <th>9</th>\n",
       "      <td>1</td>\n",
       "      <td>Windows-NT-6-1</td>\n",
       "      <td>0.000000</td>\n",
       "      <td>0.000000</td>\n",
       "      <td>42.833333</td>\n",
       "      <td>0.333333</td>\n",
       "      <td>0.500000</td>\n",
       "      <td>2.833333</td>\n",
       "      <td>0</td>\n",
       "      <td>0</td>\n",
       "      <td>...</td>\n",
       "      <td>1</td>\n",
       "      <td>0</td>\n",
       "      <td>94</td>\n",
       "      <td>1</td>\n",
       "      <td>2</td>\n",
       "      <td>1.200000</td>\n",
       "      <td>NY-NJ-PA</td>\n",
       "      <td>New-York-Newark-Jersey-City</td>\n",
       "      <td>11.122908</td>\n",
       "      <td>15.810375</td>\n",
       "    </tr>\n",
       "  </tbody>\n",
       "</table>\n",
       "<p>10 rows × 29 columns</p>\n",
       "</div>"
      ],
      "text/plain": [
       "   churn         user_os  page_view_about_avg  page_view_error_avg  \\\n",
       "0      0          iPhone             0.142857             0.000000   \n",
       "1      0          iPhone             0.428571             0.000000   \n",
       "2      1       Macintosh             0.000000             0.000000   \n",
       "3      0       Macintosh             0.212121             0.181818   \n",
       "4      1  Windows-NT-6-1             0.153846             0.076923   \n",
       "5      0  Windows-NT-6-1             0.000000             0.125000   \n",
       "6      0  Windows-NT-6-1             0.105263             0.105263   \n",
       "7      1  Windows-NT-6-1             0.161290             0.032258   \n",
       "8      0  Windows-NT-6-1             0.250000             0.375000   \n",
       "9      1  Windows-NT-6-1             0.000000             0.000000   \n",
       "\n",
       "   page_view_next_song_avg  page_view_roll_advert_avg  \\\n",
       "0                39.285714                   7.428571   \n",
       "1                55.285714                   1.000000   \n",
       "2                 8.000000                   1.000000   \n",
       "3               123.606061                   0.121212   \n",
       "4               162.384615                   0.000000   \n",
       "5                18.750000                   2.000000   \n",
       "6               100.736842                   0.052632   \n",
       "7                91.645161                   1.516129   \n",
       "8               102.500000                   1.000000   \n",
       "9                42.833333                   0.333333   \n",
       "\n",
       "   page_view_thumbs_down_avg  page_view_thumbs_up_avg  \\\n",
       "0                   0.714286                 2.428571   \n",
       "1                   0.857143                 3.000000   \n",
       "2                   0.000000                 0.000000   \n",
       "3                   1.242424                 5.181818   \n",
       "4                   1.615385                 7.692308   \n",
       "5                   0.125000                 0.875000   \n",
       "6                   0.736842                 4.263158   \n",
       "7                   0.935484                 5.258065   \n",
       "8                   0.375000                 7.250000   \n",
       "9                   0.500000                 2.833333   \n",
       "\n",
       "   page_view_add_friend_min  page_view_add_to_playlist_min     ...       \\\n",
       "0                         0                              0     ...        \n",
       "1                         0                              0     ...        \n",
       "2                         0                              0     ...        \n",
       "3                         0                              0     ...        \n",
       "4                         0                              0     ...        \n",
       "5                         0                              0     ...        \n",
       "6                         0                              0     ...        \n",
       "7                         0                              0     ...        \n",
       "8                         0                              1     ...        \n",
       "9                         0                              0     ...        \n",
       "\n",
       "   page_view_thumbs_down_max  item_in_session_min  item_in_session_max  \\\n",
       "0                          2                    0                  111   \n",
       "1                          4                    0                  157   \n",
       "2                          0                    0                   10   \n",
       "3                          9                    0                  530   \n",
       "4                          3                    0                  619   \n",
       "5                          1                    0                   92   \n",
       "6                          3                    0                  423   \n",
       "7                          3                    0                  581   \n",
       "8                          1                    0                  334   \n",
       "9                          1                    0                   94   \n",
       "\n",
       "   session_count_min  session_count_max  session_count_avg  location_state  \\\n",
       "0                  1                  2           1.166667              CT   \n",
       "1                  1                  2           1.500000        IL-IN-WI   \n",
       "2                  1                  1           1.000000              TX   \n",
       "3                  1                  5           2.900000              NJ   \n",
       "4                  1                  6           3.666667              KY   \n",
       "5                  1                  2           1.142857              WA   \n",
       "6                  1                  4           2.000000              WV   \n",
       "7                  2                  8           5.714286              WA   \n",
       "8                  1                  2           1.500000           MA-NH   \n",
       "9                  1                  2           1.200000        NY-NJ-PA   \n",
       "\n",
       "                 location_city  length_sum  active_time  \n",
       "0  Bridgeport-Stamford-Norwalk   11.111580    15.385711  \n",
       "1     Chicago-Naperville-Elgin   11.451155    15.616304  \n",
       "2               Corpus-Christi    7.644973    15.633876  \n",
       "3           Vineland-Bridgeton   13.827748    16.246175  \n",
       "4            Lexington-Fayette   13.167866    14.334891  \n",
       "5      Seattle-Tacoma-Bellevue   10.546264    15.654159  \n",
       "6                   Morgantown   13.075919    15.401224  \n",
       "7       Spokane-Spokane-Valley   13.474914    16.074034  \n",
       "8      Boston-Cambridge-Newton   12.199955    14.526125  \n",
       "9  New-York-Newark-Jersey-City   11.122908    15.810375  \n",
       "\n",
       "[10 rows x 29 columns]"
      ]
     },
     "execution_count": 79,
     "metadata": {},
     "output_type": "execute_result"
    }
   ],
   "source": [
    "dataset = dataset.withColumn(\"length_sum\", F.log(dataset[\"length_sum\"] + 1))\n",
    "dataset = dataset.withColumn(\"active_time\", F.log(dataset[\"active_time\"] + 1))\n",
    "dataset.createOrReplaceTempView(\"input_dataset\")\n",
    "pd_input_dataset = spark.sql(\"SELECT * FROM input_dataset LIMIT 10\").toPandas().dropna()\n",
    "pd_input_dataset"
   ]
  },
  {
   "cell_type": "code",
   "execution_count": 80,
   "metadata": {},
   "outputs": [
    {
     "name": "stdout",
     "output_type": "stream",
     "text": [
      "Feature Distributions.\n"
     ]
    },
    {
     "data": {
      "image/png": "[encoded data removed]",
      "text/plain": [
       "<matplotlib.figure.Figure at 0x7f34f211eda0>"
      ]
     },
     "metadata": {
      "needs_background": "light"
     },
     "output_type": "display_data"
    }
   ],
   "source": [
    "pd_input_dataset[[\"active_time\", \"length_sum\"]].hist(figsize=(10,5))\n",
    "print(\"Feature Distributions.\")"
   ]
  },
  {
   "cell_type": "markdown",
   "metadata": {},
   "source": [
    "## 4.3 Saving intermediate dataset"
   ]
  },
  {
   "cell_type": "code",
   "execution_count": 81,
   "metadata": {},
   "outputs": [],
   "source": [
    "dataset.toPandas().dropna().to_csv(\"./backup.csv\", index=False)"
   ]
  },
  {
   "cell_type": "code",
   "execution_count": 82,
   "metadata": {},
   "outputs": [],
   "source": [
    "backup = pd.read_csv(\"./backup.csv\")\n",
    "sql_ctx = SQLContext(spark)\n",
    "dataset = sql_ctx.createDataFrame(backup)"
   ]
  },
  {
   "cell_type": "markdown",
   "metadata": {},
   "source": [
    "# 5 Modeling\n",
    "\n",
    "I split the dataset into train, validation sets for model selection."
   ]
  },
  {
   "cell_type": "code",
   "execution_count": 83,
   "metadata": {},
   "outputs": [],
   "source": [
    "def evaluate_and_get_f1score(context, cv_model, data):\n",
    "    results = cv_model.transform(data)\n",
    "    prediction_evaluator = MulticlassClassificationEvaluator(predictionCol='prediction')\n",
    "    print(f\"  evaluation on '{context}'...\")\n",
    "    f1score = prediction_evaluator.evaluate(results, {prediction_evaluator.metricName: \"f1\"})\n",
    "    print(\"  precision\", prediction_evaluator.evaluate(results, {prediction_evaluator.metricName: \"weightedPrecision\"}))\n",
    "    print(\"  recall\", prediction_evaluator.evaluate(results, {prediction_evaluator.metricName: \"weightedRecall\"}))\n",
    "    print(\"  accuracy\", prediction_evaluator.evaluate(results, {prediction_evaluator.metricName: \"accuracy\"}))\n",
    "    print(\"  f1score\", f1score)\n",
    "    print(\"---------\")\n",
    "    return f1score\n",
    "\n",
    "def model_selection_metrics(classifier_factory, train_set, validation_set):\n",
    "    num_folds = 3\n",
    "    f1scores = []\n",
    "    for i in range(10, 15):\n",
    "        seed = np.power(2, i)\n",
    "        print(\"with new seed:\")\n",
    "        multi_class_evaluator = MulticlassClassificationEvaluator(metricName='f1')\n",
    "        param_grid = ParamGridBuilder().build()\n",
    "        cv = CrossValidator(estimator=classifier_factory(seed), evaluator=multi_class_evaluator, estimatorParamMaps=param_grid, numFolds=num_folds)\n",
    "        print(\"  training...\")\n",
    "        cv_model = cv.fit(train_set)\n",
    "        evaluate_and_get_f1score(\"training\", cv_model, train_set)\n",
    "        f1score = evaluate_and_get_f1score(\"validation\", cv_model, validation_set)\n",
    "        f1scores.append(f1score)\n",
    "    print(\"avg f1: \", np.mean(f1scores))"
   ]
  },
  {
   "cell_type": "markdown",
   "metadata": {},
   "source": [
    "## 5.1 Assembling the features"
   ]
  },
  {
   "cell_type": "markdown",
   "metadata": {},
   "source": [
    "The features from the final dataset will be assembled into vectorized form for further model selection."
   ]
  },
  {
   "cell_type": "code",
   "execution_count": 84,
   "metadata": {},
   "outputs": [],
   "source": [
    "numeric_columns = [\n",
    "\"page_view_about_avg\", \n",
    "\"page_view_error_avg\",\n",
    "\"page_view_next_song_avg\",\n",
    "\"page_view_roll_advert_avg\",\n",
    "\"page_view_thumbs_down_avg\",\n",
    "\"page_view_thumbs_up_avg\",\n",
    "\"page_view_add_friend_min\",\n",
    "\"page_view_add_to_playlist_min\",\n",
    "\"page_view_next_song_min\",\n",
    "\"page_view_roll_advert_min\",\n",
    "\"page_view_thumbs_down_min\",\n",
    "\"page_view_thumbs_up_min\",\n",
    "\"page_view_about_max\",\n",
    "\"page_view_add_friend_max\",\n",
    "\"page_view_add_to_playlist_max\",\n",
    "\"page_view_next_song_max\",\n",
    "\"page_view_roll_advert_max\",\n",
    "\"page_view_thumbs_down_max\",\n",
    "\"item_in_session_min\",\n",
    "\"item_in_session_max\",\n",
    "\"length_sum\",\n",
    "\"session_count_min\",\n",
    "\"active_time\"]\n",
    "\n",
    "assembler = VectorAssembler(inputCols = numeric_columns, outputCol = 'numeric_features')\n",
    "dataset = assembler.transform(dataset)\n",
    "scaler = StandardScaler(inputCol='numeric_features', outputCol='scaled_features', withStd=True)\n",
    "scale_model = scaler.fit(dataset)\n",
    "dataset = scale_model.transform(dataset)\n",
    "\n",
    "features_df = dataset"
   ]
  },
  {
   "cell_type": "code",
   "execution_count": 85,
   "metadata": {},
   "outputs": [
    {
     "data": {
      "text/plain": [
       "[Row(churn=0, user_os='iPhone', page_view_about_avg=0.14285714285714285, page_view_error_avg=0.0, page_view_next_song_avg=39.285714285714285, page_view_roll_advert_avg=7.428571428571429, page_view_thumbs_down_avg=0.7142857142857143, page_view_thumbs_up_avg=2.4285714285714284, page_view_add_friend_min=0, page_view_add_to_playlist_min=0, page_view_next_song_min=7, page_view_roll_advert_min=0, page_view_thumbs_down_min=0, page_view_thumbs_up_min=0, page_view_about_max=1, page_view_add_friend_max=2, page_view_add_to_playlist_max=3, page_view_next_song_max=80, page_view_roll_advert_max=19, page_view_thumbs_down_max=2, item_in_session_min=0, item_in_session_max=111, session_count_min=1, session_count_max=2, session_count_avg=1.1666666666666667, location_state=' CT', location_city='Bridgeport-Stamford-Norwalk', length_sum=11.111580318403073, active_time=15.385711261109032, numeric_features=DenseVector([0.1429, 0.0, 39.2857, 7.4286, 0.7143, 2.4286, 0.0, 0.0, 7.0, 0.0, 0.0, 0.0, 1.0, 2.0, 3.0, 80.0, 19.0, 2.0, 0.0, 111.0, 11.1116, 1.0, 15.3857]), scaled_features=DenseVector([0.9673, 0.0, 1.2302, 4.1113, 1.362, 1.2691, 0.0, 0.0, 0.4066, 0.0, 0.0, 0.0, 1.3175, 0.6138, 0.7865, 0.7649, 3.7849, 1.0142, 0.0, 0.5379, 8.0789, 1.6083, 23.5002]))]"
      ]
     },
     "execution_count": 85,
     "metadata": {},
     "output_type": "execute_result"
    }
   ],
   "source": [
    "features_df.take(1)"
   ]
  },
  {
   "cell_type": "code",
   "execution_count": 86,
   "metadata": {},
   "outputs": [],
   "source": [
    "churn_dataset = features_df.select(col('scaled_features').alias('features'), \n",
    "                                   col('churn').alias('label')).persist()"
   ]
  },
  {
   "cell_type": "code",
   "execution_count": 87,
   "metadata": {},
   "outputs": [],
   "source": [
    "train, valid = churn_dataset.randomSplit([0.8, 0.2], seed=42)\n",
    "train = train.persist()\n",
    "valid = valid.persist()"
   ]
  },
  {
   "cell_type": "markdown",
   "metadata": {},
   "source": [
    "## 5.2 Model selection"
   ]
  },
  {
   "cell_type": "markdown",
   "metadata": {},
   "source": [
    "I am planning to do model selection with different seeds to be sure that the model is stable."
   ]
  },
  {
   "cell_type": "code",
   "execution_count": 88,
   "metadata": {},
   "outputs": [
    {
     "name": "stdout",
     "output_type": "stream",
     "text": [
      "with new seed:\n",
      "  training...\n",
      "  evaluation on 'training'...\n",
      "  precision 0.9332194693601702\n",
      "  recall 0.9326424870466321\n",
      "  accuracy 0.9326424870466321\n",
      "  f1score 0.9328984179954586\n",
      "---------\n",
      "  evaluation on 'validation'...\n",
      "  precision 0.8062770562770563\n",
      "  recall 0.75\n",
      "  accuracy 0.75\n",
      "  f1score 0.7669082125603864\n",
      "---------\n",
      "with new seed:\n",
      "  training...\n",
      "  evaluation on 'training'...\n",
      "  precision 0.9332194693601702\n",
      "  recall 0.9326424870466321\n",
      "  accuracy 0.9326424870466321\n",
      "  f1score 0.9328984179954586\n",
      "---------\n",
      "  evaluation on 'validation'...\n",
      "  precision 0.8062770562770563\n",
      "  recall 0.75\n",
      "  accuracy 0.75\n",
      "  f1score 0.7669082125603864\n",
      "---------\n",
      "with new seed:\n",
      "  training...\n",
      "  evaluation on 'training'...\n",
      "  precision 0.9332194693601702\n",
      "  recall 0.9326424870466321\n",
      "  accuracy 0.9326424870466321\n",
      "  f1score 0.9328984179954586\n",
      "---------\n",
      "  evaluation on 'validation'...\n",
      "  precision 0.8062770562770563\n",
      "  recall 0.75\n",
      "  accuracy 0.75\n",
      "  f1score 0.7669082125603864\n",
      "---------\n",
      "with new seed:\n",
      "  training...\n",
      "  evaluation on 'training'...\n",
      "  precision 0.9332194693601702\n",
      "  recall 0.9326424870466321\n",
      "  accuracy 0.9326424870466321\n",
      "  f1score 0.9328984179954586\n",
      "---------\n",
      "  evaluation on 'validation'...\n",
      "  precision 0.8062770562770563\n",
      "  recall 0.75\n",
      "  accuracy 0.75\n",
      "  f1score 0.7669082125603864\n",
      "---------\n",
      "with new seed:\n",
      "  training...\n",
      "  evaluation on 'training'...\n",
      "  precision 0.9332194693601702\n",
      "  recall 0.9326424870466321\n",
      "  accuracy 0.9326424870466321\n",
      "  f1score 0.9328984179954586\n",
      "---------\n",
      "  evaluation on 'validation'...\n",
      "  precision 0.8062770562770563\n",
      "  recall 0.75\n",
      "  accuracy 0.75\n",
      "  f1score 0.7669082125603864\n",
      "---------\n",
      "avg f1:  0.76690821256\n"
     ]
    }
   ],
   "source": [
    "def decision_tree_factory(seed):\n",
    "    return DecisionTreeClassifier(seed = seed)\n",
    "model_selection_metrics(decision_tree_factory, train, valid)"
   ]
  },
  {
   "cell_type": "code",
   "execution_count": 89,
   "metadata": {},
   "outputs": [
    {
     "name": "stdout",
     "output_type": "stream",
     "text": [
      "with new seed:\n",
      "  training...\n",
      "  evaluation on 'training'...\n",
      "  precision 0.9424870466321245\n",
      "  recall 0.9378238341968912\n",
      "  accuracy 0.9378238341968912\n",
      "  f1score 0.9342522762211881\n",
      "---------\n",
      "  evaluation on 'validation'...\n",
      "  precision 0.8337053571428571\n",
      "  recall 0.84375\n",
      "  accuracy 0.84375\n",
      "  f1score 0.8268653516295024\n",
      "---------\n",
      "with new seed:\n",
      "  training...\n",
      "  evaluation on 'training'...\n",
      "  precision 0.9469482191155865\n",
      "  recall 0.9430051813471502\n",
      "  accuracy 0.9430051813471503\n",
      "  f1score 0.9400582674564697\n",
      "---------\n",
      "  evaluation on 'validation'...\n",
      "  precision 0.8337053571428571\n",
      "  recall 0.84375\n",
      "  accuracy 0.84375\n",
      "  f1score 0.8268653516295024\n",
      "---------\n",
      "with new seed:\n",
      "  training...\n",
      "  evaluation on 'training'...\n",
      "  precision 0.9294319590578213\n",
      "  recall 0.9222797927461139\n",
      "  accuracy 0.9222797927461139\n",
      "  f1score 0.9163820535461406\n",
      "---------\n",
      "  evaluation on 'validation'...\n",
      "  precision 0.8922413793103448\n",
      "  recall 0.875\n",
      "  accuracy 0.875\n",
      "  f1score 0.8546296296296296\n",
      "---------\n",
      "with new seed:\n",
      "  training...\n",
      "  evaluation on 'training'...\n",
      "  precision 0.9169554022696208\n",
      "  recall 0.9119170984455959\n",
      "  accuracy 0.9119170984455959\n",
      "  f1score 0.9052329940189595\n",
      "---------\n",
      "  evaluation on 'validation'...\n",
      "  precision 0.7967592592592593\n",
      "  recall 0.8125\n",
      "  accuracy 0.8125\n",
      "  f1score 0.8004807692307692\n",
      "---------\n",
      "with new seed:\n",
      "  training...\n",
      "  evaluation on 'training'...\n",
      "  precision 0.9380812924403823\n",
      "  recall 0.9326424870466321\n",
      "  accuracy 0.9326424870466321\n",
      "  f1score 0.9283733688381809\n",
      "---------\n",
      "  evaluation on 'validation'...\n",
      "  precision 0.8337053571428571\n",
      "  recall 0.84375\n",
      "  accuracy 0.84375\n",
      "  f1score 0.8268653516295024\n",
      "---------\n",
      "avg f1:  0.82714129075\n"
     ]
    }
   ],
   "source": [
    "def random_forest_factory(seed):\n",
    "    return RandomForestClassifier(seed=seed)\n",
    "model_selection_metrics(random_forest_factory, train, valid)"
   ]
  },
  {
   "cell_type": "code",
   "execution_count": 90,
   "metadata": {},
   "outputs": [
    {
     "name": "stdout",
     "output_type": "stream",
     "text": [
      "with new seed:\n",
      "  training...\n",
      "  evaluation on 'training'...\n",
      "  precision 1.0\n",
      "  recall 1.0\n",
      "  accuracy 1.0\n",
      "  f1score 1.0\n",
      "---------\n",
      "  evaluation on 'validation'...\n",
      "  precision 0.7831477732793523\n",
      "  recall 0.6875\n",
      "  accuracy 0.6875\n",
      "  f1score 0.7130681818181818\n",
      "---------\n",
      "with new seed:\n",
      "  training...\n",
      "  evaluation on 'training'...\n",
      "  precision 1.0\n",
      "  recall 1.0\n",
      "  accuracy 1.0\n",
      "  f1score 1.0\n",
      "---------\n",
      "  evaluation on 'validation'...\n",
      "  precision 0.7831477732793523\n",
      "  recall 0.6875\n",
      "  accuracy 0.6875\n",
      "  f1score 0.7130681818181818\n",
      "---------\n",
      "with new seed:\n",
      "  training...\n",
      "  evaluation on 'training'...\n",
      "  precision 1.0\n",
      "  recall 1.0\n",
      "  accuracy 1.0\n",
      "  f1score 1.0\n",
      "---------\n",
      "  evaluation on 'validation'...\n",
      "  precision 0.7831477732793523\n",
      "  recall 0.6875\n",
      "  accuracy 0.6875\n",
      "  f1score 0.7130681818181818\n",
      "---------\n",
      "with new seed:\n",
      "  training...\n",
      "  evaluation on 'training'...\n",
      "  precision 1.0\n",
      "  recall 1.0\n",
      "  accuracy 1.0\n",
      "  f1score 1.0\n",
      "---------\n",
      "  evaluation on 'validation'...\n",
      "  precision 0.7831477732793523\n",
      "  recall 0.6875\n",
      "  accuracy 0.6875\n",
      "  f1score 0.7130681818181818\n",
      "---------\n",
      "with new seed:\n",
      "  training...\n",
      "  evaluation on 'training'...\n",
      "  precision 1.0\n",
      "  recall 1.0\n",
      "  accuracy 1.0\n",
      "  f1score 1.0\n",
      "---------\n",
      "  evaluation on 'validation'...\n",
      "  precision 0.7831477732793523\n",
      "  recall 0.6875\n",
      "  accuracy 0.6875\n",
      "  f1score 0.7130681818181818\n",
      "---------\n",
      "avg f1:  0.713068181818\n"
     ]
    }
   ],
   "source": [
    "def gbt_factory(seed):\n",
    "    return GBTClassifier(seed = seed)\n",
    "model_selection_metrics(gbt_factory, train, valid)"
   ]
  },
  {
   "cell_type": "markdown",
   "metadata": {},
   "source": [
    "The test results are the following:\n",
    "\n",
    "| Classifier        | f1score       |\n",
    "|-------------------|---------------|\n",
    "| Decision Tree     | 0.76690821256 |\n",
    "| Random Forest     | 0.82          |\n",
    "| Gradient Boosting | 0.71          |\n",
    "\n",
    "The best model is RandomForestClassifier with f1score 0.82. Not surprisingly gradient boosting classifier has overfitted showing 1.0 on the training set."
   ]
  },
  {
   "cell_type": "markdown",
   "metadata": {},
   "source": [
    "## 5.3 Tuning the best model"
   ]
  },
  {
   "cell_type": "code",
   "execution_count": 91,
   "metadata": {},
   "outputs": [
    {
     "name": "stdout",
     "output_type": "stream",
     "text": [
      "training...\n",
      "  evaluation on 'training'...\n",
      "  precision 0.874359649893153\n",
      "  recall 0.849740932642487\n",
      "  accuracy 0.8497409326424871\n",
      "  f1score 0.8207274794346908\n",
      "---------\n",
      "  evaluation on 'validation'...\n",
      "  precision 0.8369391025641024\n",
      "  recall 0.84375\n",
      "  accuracy 0.84375\n",
      "  f1score 0.8392722473604827\n",
      "---------\n"
     ]
    },
    {
     "data": {
      "text/plain": [
       "0.8392722473604827"
      ]
     },
     "execution_count": 91,
     "metadata": {},
     "output_type": "execute_result"
    }
   ],
   "source": [
    "num_folds = 3\n",
    "model = RandomForestClassifier()\n",
    "multi_class_evaluator = MulticlassClassificationEvaluator(metricName='f1')\n",
    "param_grid = ParamGridBuilder()\\\n",
    "    .addGrid(model.maxDepth, [1, 2, 3, 5])\\\n",
    "    .addGrid(model.numTrees,[1, 5, 10, 15, 20, 25, 30, 40])\\\n",
    "    .build()\n",
    "\n",
    "cv = CrossValidator(estimator=model, evaluator=multi_class_evaluator, estimatorParamMaps=param_grid, numFolds=num_folds)\n",
    "print(\"training...\")\n",
    "cv_model = cv.fit(train)\n",
    "evaluate_and_get_f1score(\"training\", cv_model, train)\n",
    "evaluate_and_get_f1score(\"validation\", cv_model, valid)\n"
   ]
  },
  {
   "cell_type": "markdown",
   "metadata": {},
   "source": [
    "## 5.4 The best model parameters"
   ]
  },
  {
   "cell_type": "code",
   "execution_count": 92,
   "metadata": {},
   "outputs": [],
   "source": [
    "best_model = cv_model.bestModel\n",
    "bestParams = best_model.extractParamMap()"
   ]
  },
  {
   "cell_type": "code",
   "execution_count": 93,
   "metadata": {},
   "outputs": [
    {
     "name": "stdout",
     "output_type": "stream",
     "text": [
      "cacheNodeIds: False\n",
      "checkpointInterval: 10\n",
      "featureSubsetStrategy: auto\n",
      "featuresCol: features\n",
      "impurity: gini\n",
      "labelCol: label\n",
      "maxBins: 32\n",
      "maxDepth: 3\n",
      "maxMemoryInMB: 256\n",
      "minInfoGain: 0.0\n",
      "minInstancesPerNode: 1\n",
      "numTrees: 10\n",
      "predictionCol: prediction\n",
      "probabilityCol: probability\n",
      "rawPredictionCol: rawPrediction\n",
      "seed: -3537354893188193752\n",
      "subsamplingRate: 1.0\n"
     ]
    }
   ],
   "source": [
    "for param, value in bestParams.items():\n",
    "    print(f\"{param.name}: {value}\")"
   ]
  },
  {
   "cell_type": "markdown",
   "metadata": {},
   "source": [
    "## 5.4 Feature Importance"
   ]
  },
  {
   "cell_type": "code",
   "execution_count": 94,
   "metadata": {},
   "outputs": [
    {
     "data": {
      "text/plain": [
       "<matplotlib.axes._subplots.AxesSubplot at 0x7f34f10024e0>"
      ]
     },
     "execution_count": 94,
     "metadata": {},
     "output_type": "execute_result"
    },
    {
     "data": {
      "image/png": "[encoded data removed]",
      "text/plain": [
       "<matplotlib.figure.Figure at 0x7f34f1f39b38>"
      ]
     },
     "metadata": {
      "needs_background": "light"
     },
     "output_type": "display_data"
    }
   ],
   "source": [
    "features_importance_list = list(zip(assembler.getInputCols(), best_model.featureImportances.values))\n",
    "\n",
    "feature_importance = \\\n",
    "    pd.DataFrame(features_importance_list, columns=['Feature', 'Importance']) \\\n",
    "      .sort_values('Importance', ascending=False)\n",
    "plt.figure(figsize=(20,5))\n",
    "plt.xticks(rotation=45, ha='right')\n",
    "sns.barplot(x='Feature', y='Importance', data=feature_importance)\n"
   ]
  },
  {
   "cell_type": "markdown",
   "metadata": {},
   "source": [
    "## 5.5 Evaluation on the full dataset"
   ]
  },
  {
   "cell_type": "markdown",
   "metadata": {},
   "source": [
    "Evaluation on the full dataset is done using AWS EMR Spark cluster and therefore is available in the follow up notebook \"Sparkify_churn_full\" in the same directory..."
   ]
  },
  {
   "cell_type": "markdown",
   "metadata": {},
   "source": [
    "# 6 Conclusions and Future Work\n",
    "\n",
    "In this article I considered the problem of churn classification. The volume of the data did not allow to operate on the full dataset effectively therefore the pipeline has been split into two steps: model selection and model tuning.\n",
    "\n",
    "The model selection has been performed on the small subset of data using three candidates: DecisionTree, Random Forest and Gradient Boosting. The best selected model is Random Forest Classifier with the f1score 0.82.\n",
    "\n",
    "The model tuning has been performed on the full dataset using AWS spark cluster with the best model from the model selection process. The test score on the full dataset is  0.81.\n",
    "\n",
    "It is interesting and in some sense expected that the Gradient Boosting Tree model has overfit on the small subset of data where it reports f1score 1.0 on the training set and 0.71 on the evaluation set. It seems that there are some parameters are set to subnormal values by default therefore I am seeing a lots of improvements here. Some of them are given below:\n",
    "- Use grid parameter selection for this classifier despite it performed not very well on the evaluation set with focus on max tree depth parameter\n",
    "- Reduce the number of features by checking which features are correlated\n",
    "- Increase the number of training samples.\n",
    "- Apply regularisation \n",
    "\n",
    "As expected the data preprocessing and feature engineering took the most of the time since it was required to conduct lots of experiments with feature candidates, therefore certain time and complexity tradeoffs has been made to limit the number of possible features leaving some of the feature not explored and therefore leaving some space for possible improvement. The features that could be further explored are:\n",
    "- number of thumbs up/down per songs listened per time interval\n",
    "- number of roll advert per songs listened per time interval\n",
    "- average number of songs listened per day\n",
    "- decrease in service interactions over time\n",
    "- decrease in number of songs listened over time\n",
    "\n",
    "In this work certain prediction quality has been achieved on three model types, and it will be beneficial to evaluate other model types available in spark, such as SVM and Logistic Regression, to confirm that the current model is top performer.\n",
    "\n",
    "Also as part of future work the pipelines can be productionalized to an application that could perform two tasks: \n",
    "- periodic assessment of customers and generate report with the customers under risk\n",
    "- periodic model selection process where the model type and parameters can be automatically selected based on input data. This pipeline could ensure that model performance does not degrade with the time."
   ]
  },
  {
   "cell_type": "code",
   "execution_count": null,
   "metadata": {},
   "outputs": [],
   "source": []
  }
 ],
 "metadata": {
  "kernelspec": {
   "display_name": "Python 3",
   "language": "python",
   "name": "python3"
  },
  "language_info": {
   "codemirror_mode": {
    "name": "ipython",
    "version": 3
   },
   "file_extension": ".py",
   "mimetype": "text/x-python",
   "name": "python",
   "nbconvert_exporter": "python",
   "pygments_lexer": "ipython3",
   "version": "3.6.3"
  }
 },
 "nbformat": 4,
 "nbformat_minor": 2
}
